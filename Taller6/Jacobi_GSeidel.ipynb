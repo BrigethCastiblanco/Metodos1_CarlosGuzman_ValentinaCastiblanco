{
 "cells": [
  {
   "cell_type": "code",
   "execution_count": 1,
   "id": "f69dd346",
   "metadata": {},
   "outputs": [],
   "source": [
    "import numpy as np"
   ]
  },
  {
   "cell_type": "markdown",
   "id": "ef38669a",
   "metadata": {},
   "source": [
    "# Jacobi"
   ]
  },
  {
   "cell_type": "code",
   "execution_count": 2,
   "id": "00da5cbc",
   "metadata": {},
   "outputs": [
    {
     "name": "stdout",
     "output_type": "stream",
     "text": [
      "[[ 3. -1. -1.]\n",
      " [-1.  3.  1.]\n",
      " [ 2.  1.  4.]]\n",
      "[1. 3. 7.]\n"
     ]
    }
   ],
   "source": [
    "M = np.array([[3,-1,-1],[-1.,3.,1.],[2,1,4]])\n",
    "print(M)\n",
    "b = np.array([1.,3.,7.])\n",
    "print(b)"
   ]
  },
  {
   "cell_type": "code",
   "execution_count": 3,
   "id": "9e41935b",
   "metadata": {},
   "outputs": [
    {
     "data": {
      "text/plain": [
       "array([1., 1., 1.])"
      ]
     },
     "execution_count": 3,
     "metadata": {},
     "output_type": "execute_result"
    }
   ],
   "source": [
    "np.linalg.solve(M,b)"
   ]
  },
  {
   "cell_type": "code",
   "execution_count": 8,
   "id": "b7b52631",
   "metadata": {},
   "outputs": [],
   "source": [
    "def GetacobiMethod(A,b,itmax=1000,error = 1e-10):\n",
    "    \n",
    "    M,N = A.shape\n",
    "    \n",
    "    x = np.zeros(N)\n",
    "    \n",
    "    sumk = np.zeros_like(x)\n",
    "    \n",
    "    x = [13,20,-1]\n",
    "    \n",
    "    it = 0\n",
    "    \n",
    "    residuo = np.linalg.norm( b - np.dot(A,x) )\n",
    "    \n",
    "    while ( residuo > error and it < itmax ):\n",
    "        \n",
    "        it += 1\n",
    "        \n",
    "        for i in range(M):\n",
    "            sum_ = 0\n",
    "            for j in range(N):\n",
    "                if i != j:\n",
    "                    sum_ += A[i][j]*x[j]\n",
    "            sumk[i] = sum_\n",
    "          \n",
    "        for i in range(M):\n",
    "            \n",
    "            if A[i,i] != 0:\n",
    "                x[i] = (b[i] - sumk[i])/A[i,i]\n",
    "            else:\n",
    "                print('No invertible con Jacobi')\n",
    "        \n",
    "        residuo = np.linalg.norm( b - np.dot(A,x) )\n",
    "        \n",
    "    return it\n",
    "\n"
   ]
  },
  {
   "cell_type": "code",
   "execution_count": 10,
   "id": "51266186",
   "metadata": {},
   "outputs": [
    {
     "data": {
      "text/plain": [
       "26"
      ]
     },
     "execution_count": 10,
     "metadata": {},
     "output_type": "execute_result"
    }
   ],
   "source": [
    "it = GetacobiMethod(M,b)\n",
    "it"
   ]
  },
  {
   "cell_type": "markdown",
   "id": "f5c537df",
   "metadata": {},
   "source": [
    "# Gauss-seidel"
   ]
  },
  {
   "cell_type": "code",
   "execution_count": 11,
   "id": "418ba1ee",
   "metadata": {},
   "outputs": [
    {
     "data": {
      "text/plain": [
       "17"
      ]
     },
     "execution_count": 11,
     "metadata": {},
     "output_type": "execute_result"
    }
   ],
   "source": [
    "x = 0\n",
    "y = 0\n",
    "z = 0\n",
    "error = 1e-10\n",
    "it = 0\n",
    "while True:\n",
    "    a = x\n",
    "    x = (1 + y + z)/3\n",
    "    y = (3+x-z)/3\n",
    "    z = (7-2*x-y)/4\n",
    "    e = abs((x-a)/x)\n",
    "        \n",
    "    if e<error:\n",
    "        break\n",
    "    it +=1\n",
    "    \n",
    "it\n",
    "        \n",
    "    \n",
    "    "
   ]
  },
  {
   "cell_type": "code",
   "execution_count": null,
   "id": "55038b95",
   "metadata": {},
   "outputs": [],
   "source": []
  }
 ],
 "metadata": {
  "kernelspec": {
   "display_name": "Python 3 (ipykernel)",
   "language": "python",
   "name": "python3"
  },
  "language_info": {
   "codemirror_mode": {
    "name": "ipython",
    "version": 3
   },
   "file_extension": ".py",
   "mimetype": "text/x-python",
   "name": "python",
   "nbconvert_exporter": "python",
   "pygments_lexer": "ipython3",
   "version": "3.9.12"
  }
 },
 "nbformat": 4,
 "nbformat_minor": 5
}
