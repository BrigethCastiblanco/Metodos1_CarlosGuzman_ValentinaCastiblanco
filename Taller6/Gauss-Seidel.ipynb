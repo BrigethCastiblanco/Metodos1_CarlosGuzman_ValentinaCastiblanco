{
 "cells": [
  {
   "cell_type": "code",
   "execution_count": 1,
   "id": "b2024809",
   "metadata": {},
   "outputs": [],
   "source": [
    "import numpy as np\n",
    "import matplotlib.pyplot as plt"
   ]
  },
  {
   "cell_type": "code",
   "execution_count": 2,
   "id": "f24284ff",
   "metadata": {},
   "outputs": [],
   "source": [
    "M = np.array([[ 3 , -1 , -1 ],\n",
    "              [ -1. , 3. , 1. ],\n",
    "              [ 2 , 1 , 4 ]])\n",
    "b = np.array([1.,3.,7.])\n",
    "vini= np.array([0.0,0,0])\n",
    "tole = 0.0001\n",
    "iteramax= 100"
   ]
  },
  {
   "cell_type": "code",
   "execution_count": 3,
   "id": "1a1c6611",
   "metadata": {},
   "outputs": [],
   "source": [
    "def Gauss_Seidel(M,b,tole, iteramax):\n",
    "    tamano = np.shape(M)\n",
    "    n= tamano[0]\n",
    "    m= tamano[1]\n",
    "    vini= np.array([0.0,0,0])\n",
    "    vdef = np.copy(vini)\n",
    "    diferencia = np.ones( n, dtype=float)\n",
    "    error = 2*tole\n",
    "    it = 0\n",
    "    i=0\n",
    "    while not(error<=tole or it>iteramax):\n",
    "        for i in range(0,n,1):\n",
    "\n",
    "            sum_=0\n",
    "            for j in range(0,n,1):\n",
    "                if (j !=i ):\n",
    "\n",
    "                    sum_ = sum_ + M[i,j]*vdef[j]\n",
    "\n",
    "\n",
    "            new = (b[i]-sum_)/M[i,i]\n",
    "            diferencia[i] = np.abs(new-vdef[i])\n",
    "            vdef[i] = new\n",
    "        err = np.max(diferencia)\n",
    "        it = it+1\n",
    "    return vdef\n"
   ]
  },
  {
   "cell_type": "code",
   "execution_count": 5,
   "id": "cfeb00e9",
   "metadata": {},
   "outputs": [
    {
     "name": "stdout",
     "output_type": "stream",
     "text": [
      "Mediante el metodo de Gauss-Seidel, su resultado es: [1. 1. 1.]\n"
     ]
    }
   ],
   "source": [
    "res = Gauss_Seidel(M,b,tole,iteramax)\n",
    "print('Mediante el metodo de Gauss-Seidel, su resultado es: ' + str(res))"
   ]
  },
  {
   "cell_type": "code",
   "execution_count": null,
   "id": "535b6337",
   "metadata": {},
   "outputs": [],
   "source": []
  }
 ],
 "metadata": {
  "kernelspec": {
   "display_name": "Python 3 (ipykernel)",
   "language": "python",
   "name": "python3"
  },
  "language_info": {
   "codemirror_mode": {
    "name": "ipython",
    "version": 3
   },
   "file_extension": ".py",
   "mimetype": "text/x-python",
   "name": "python",
   "nbconvert_exporter": "python",
   "pygments_lexer": "ipython3",
   "version": "3.8.8"
  }
 },
 "nbformat": 4,
 "nbformat_minor": 5
}
