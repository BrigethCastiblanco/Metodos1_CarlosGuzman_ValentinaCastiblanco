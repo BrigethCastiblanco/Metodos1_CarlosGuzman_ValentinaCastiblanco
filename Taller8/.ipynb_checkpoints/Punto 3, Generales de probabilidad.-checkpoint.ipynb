{
 "cells": [
  {
   "cell_type": "code",
   "execution_count": 1,
   "id": "2ae1741d",
   "metadata": {},
   "outputs": [],
   "source": [
    "ProbDiario= 60/100\n",
    "ProbCable = 80/100\n",
    "ProbAmbas = 50/100\n"
   ]
  },
  {
   "cell_type": "code",
   "execution_count": 6,
   "id": "ca659e09",
   "metadata": {},
   "outputs": [],
   "source": [
    "PUDS = (ProbDiario+ProbCable)-ProbAmbas\n"
   ]
  },
  {
   "cell_type": "code",
   "execution_count": 9,
   "id": "8b3f8eb5",
   "metadata": {},
   "outputs": [
    {
     "name": "stdout",
     "output_type": "stream",
     "text": [
      "La probabilidad de que este suscrito a uno de los dos servicios es: 0.9\n"
     ]
    }
   ],
   "source": [
    "print('La probabilidad de que este suscrito a uno de los dos servicios es: ' + str(round(PUDS,2)))"
   ]
  },
  {
   "cell_type": "code",
   "execution_count": 12,
   "id": "077ad8f6",
   "metadata": {},
   "outputs": [
    {
     "data": {
      "text/plain": [
       "0.3999999999999998"
      ]
     },
     "execution_count": 12,
     "metadata": {},
     "output_type": "execute_result"
    }
   ],
   "source": [
    "sol1 = PUDS-ProbDiario\n",
    "sol2 = PUDS-ProbCable\n",
    "PS1US2 = sol1+sol2\n",
    "PS1US2"
   ]
  },
  {
   "cell_type": "code",
   "execution_count": 14,
   "id": "4708c18a",
   "metadata": {},
   "outputs": [
    {
     "name": "stdout",
     "output_type": "stream",
     "text": [
      "La probabilidad de que esté suscrito al diario o al cable, pero no a ambos servicios es: \n",
      "0.4\n"
     ]
    }
   ],
   "source": [
    "print('La probabilidad de que esté suscrito al diario o al cable, pero no a ambos servicios es: \\n' + \n",
    "      str(round(PS1US2,2)))"
   ]
  },
  {
   "cell_type": "code",
   "execution_count": null,
   "id": "f640c9c6",
   "metadata": {},
   "outputs": [],
   "source": []
  }
 ],
 "metadata": {
  "kernelspec": {
   "display_name": "Python 3 (ipykernel)",
   "language": "python",
   "name": "python3"
  },
  "language_info": {
   "codemirror_mode": {
    "name": "ipython",
    "version": 3
   },
   "file_extension": ".py",
   "mimetype": "text/x-python",
   "name": "python",
   "nbconvert_exporter": "python",
   "pygments_lexer": "ipython3",
   "version": "3.8.8"
  }
 },
 "nbformat": 4,
 "nbformat_minor": 5
}
