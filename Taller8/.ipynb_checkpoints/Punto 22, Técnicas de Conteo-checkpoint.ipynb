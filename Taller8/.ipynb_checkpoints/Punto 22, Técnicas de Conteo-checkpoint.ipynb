{
 "cells": [
  {
   "cell_type": "code",
   "execution_count": 1,
   "id": "8eb4e468",
   "metadata": {},
   "outputs": [],
   "source": [
    "import numpy as np"
   ]
  },
  {
   "cell_type": "code",
   "execution_count": 6,
   "id": "486cfb1d",
   "metadata": {},
   "outputs": [],
   "source": [
    "def suma_de_tres_enteros(r,n):\n",
    "    arriba = np.math.factorial(r+n-1)\n",
    "    #print(arriba)\n",
    "    abajo = np.math.factorial(r) * np.math.factorial(n-1)\n",
    "    #print(abajo)\n",
    "    res = arriba/abajo\n",
    "    #print(res)\n",
    "    return res"
   ]
  },
  {
   "cell_type": "code",
   "execution_count": 8,
   "id": "08f286ec",
   "metadata": {},
   "outputs": [],
   "source": [
    "var = suma_de_tres_enteros(10,3)"
   ]
  },
  {
   "cell_type": "code",
   "execution_count": 9,
   "id": "565d2cf0",
   "metadata": {},
   "outputs": [
    {
     "name": "stdout",
     "output_type": "stream",
     "text": [
      "El resultado de cuántas sumas de 3 enteros no negativos dan 10 es: 66.0\n"
     ]
    }
   ],
   "source": [
    "print('El resultado de cuántas sumas de 3 enteros no negativos dan 10 es: ' + str(var))"
   ]
  },
  {
   "cell_type": "code",
   "execution_count": null,
   "id": "efcf6610",
   "metadata": {},
   "outputs": [],
   "source": []
  }
 ],
 "metadata": {
  "kernelspec": {
   "display_name": "Python 3 (ipykernel)",
   "language": "python",
   "name": "python3"
  },
  "language_info": {
   "codemirror_mode": {
    "name": "ipython",
    "version": 3
   },
   "file_extension": ".py",
   "mimetype": "text/x-python",
   "name": "python",
   "nbconvert_exporter": "python",
   "pygments_lexer": "ipython3",
   "version": "3.8.8"
  }
 },
 "nbformat": 4,
 "nbformat_minor": 5
}
