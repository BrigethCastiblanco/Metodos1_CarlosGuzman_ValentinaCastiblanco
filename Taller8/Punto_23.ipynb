{
 "cells": [
  {
   "cell_type": "markdown",
   "id": "072f2acf",
   "metadata": {},
   "source": [
    "Se tienen 9 llaves: 3 rojas, 3 azules y 3 verdes. Si elegimos 4, ¿de cuantas formas sepueden distribuir los colores?"
   ]
  },
  {
   "cell_type": "code",
   "execution_count": 15,
   "id": "8c0497de",
   "metadata": {},
   "outputs": [],
   "source": [
    "import numpy as np"
   ]
  },
  {
   "cell_type": "code",
   "execution_count": 16,
   "id": "e3afb15f",
   "metadata": {},
   "outputs": [],
   "source": [
    "n = 9\n",
    "r = 4"
   ]
  },
  {
   "cell_type": "code",
   "execution_count": 19,
   "id": "ebf45f39",
   "metadata": {},
   "outputs": [
    {
     "name": "stdout",
     "output_type": "stream",
     "text": [
      "de 126.0 formas se pueden distribuir los colores\n"
     ]
    }
   ],
   "source": [
    "num = np.math.factorial(n)\n",
    "den = np.math.factorial(r)*np.math.factorial(n-r)\n",
    "formas = num/den\n",
    "\n",
    "print(\"de\", formas , \"formas se pueden distribuir los colores\")"
   ]
  },
  {
   "cell_type": "code",
   "execution_count": null,
   "id": "2e3ec668",
   "metadata": {},
   "outputs": [],
   "source": []
  }
 ],
 "metadata": {
  "kernelspec": {
   "display_name": "Python 3 (ipykernel)",
   "language": "python",
   "name": "python3"
  },
  "language_info": {
   "codemirror_mode": {
    "name": "ipython",
    "version": 3
   },
   "file_extension": ".py",
   "mimetype": "text/x-python",
   "name": "python",
   "nbconvert_exporter": "python",
   "pygments_lexer": "ipython3",
   "version": "3.9.12"
  }
 },
 "nbformat": 4,
 "nbformat_minor": 5
}
