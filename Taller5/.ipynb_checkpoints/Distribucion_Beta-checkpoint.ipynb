{
 "cells": [
  {
   "cell_type": "code",
   "execution_count": 542,
   "id": "8b753d04",
   "metadata": {},
   "outputs": [],
   "source": [
    "import numpy as np\n",
    "import sympy as sym\n",
    "import matplotlib.pyplot as plt"
   ]
  },
  {
   "cell_type": "code",
   "execution_count": 543,
   "id": "68897807",
   "metadata": {},
   "outputs": [],
   "source": [
    "#Gamma\n",
    "def T(n):\n",
    "    return np.math.factorial(n-1)\n"
   ]
  },
  {
   "cell_type": "code",
   "execution_count": 544,
   "id": "34f058c4",
   "metadata": {},
   "outputs": [
    {
     "data": {
      "text/latex": [
       "$\\displaystyle 20.0 x \\left(1 - x\\right)^{3}$"
      ],
      "text/plain": [
       "20.0*x*(1 - x)**3"
      ]
     },
     "execution_count": 544,
     "metadata": {},
     "output_type": "execute_result"
    }
   ],
   "source": [
    "#distribucion beta:\n",
    "def f(x,a,b):\n",
    "    \n",
    "    tab = T(a+b)\n",
    "    \n",
    "    talf = T(a)\n",
    "    \n",
    "    tbet = T(b)\n",
    "    \n",
    "    #if x <= 1 and x >= 0:\n",
    "        \n",
    "    xa = x**(a-1)\n",
    "        \n",
    "    xb = (1-x)**(b-1)\n",
    "        \n",
    "    distribucion = (tab/(talf*tbet))*xa*xb\n",
    "        \n",
    "    return distribucion\n",
    "x = sym.Symbol('x')\n",
    "f = f(x,2,4)\n",
    "f"
   ]
  },
  {
   "cell_type": "code",
   "execution_count": 663,
   "id": "6bb38d57",
   "metadata": {},
   "outputs": [
    {
     "data": {
      "text/plain": [
       "2.109374997557933"
      ]
     },
     "execution_count": 663,
     "metadata": {},
     "output_type": "execute_result"
    }
   ],
   "source": [
    "#Maximo de la funcion\n",
    "t=max(f(x))\n",
    "t"
   ]
  },
  {
   "cell_type": "code",
   "execution_count": 676,
   "id": "3e7f083d",
   "metadata": {},
   "outputs": [
    {
     "data": {
      "image/png": "[encoded data removed]",
      "text/plain": [
       "<Figure size 576x216 with 1 Axes>"
      ]
     },
     "metadata": {
      "needs_background": "light"
     },
     "output_type": "display_data"
    }
   ],
   "source": [
    "x = np.linspace(0,1,100)\n",
    "t=max(f(x))\n",
    "f = lambda x: 20*x*((1-x)**3)\n",
    "plt.figure(figsize=(8,3))\n",
    "plt.plot(x,f(x))\n",
    "plt.axhline(y=t,ls='-',color='r')\n",
    "plt.grid()\n",
    "plt.show()"
   ]
  },
  {
   "cell_type": "code",
   "execution_count": 682,
   "id": "54d53c12",
   "metadata": {},
   "outputs": [
    {
     "data": {
      "text/plain": [
       "1.0"
      ]
     },
     "execution_count": 682,
     "metadata": {},
     "output_type": "execute_result"
    }
   ],
   "source": [
    "#Determinacion de N para incertidumbre 1%\n",
    "incer = 1/np.sqrt(10000)*100\n",
    "N = 10000\n",
    "incer"
   ]
  },
  {
   "cell_type": "code",
   "execution_count": 683,
   "id": "ed0cb223",
   "metadata": {},
   "outputs": [],
   "source": [
    "#Generacion x al azar\n",
    "acept = np.array([])\n",
    "for i in range(N):\n",
    "    while True:\n",
    "        xi = np.random.uniform(0,1,1)\n",
    "        yi = np.random.uniform(0,t,1)\n",
    "        if yi < (f(xi)/t):\n",
    "            acept = np.append(acept,xi)\n",
    "            break\n",
    "\n"
   ]
  },
  {
   "cell_type": "code",
   "execution_count": 684,
   "id": "57cfe028",
   "metadata": {},
   "outputs": [
    {
     "data": {
      "image/png": "[encoded data removed]",
      "text/plain": [
       "<Figure size 576x216 with 1 Axes>"
      ]
     },
     "metadata": {
      "needs_background": "light"
     },
     "output_type": "display_data"
    }
   ],
   "source": [
    "plt.figure(figsize=(8,3))\n",
    "plt.hist(acept, bins = 50, density = True)\n",
    "xx = np.linspace(0, 1, N)\n",
    "plt.plot(xx,f(xx))\n",
    "plt.grid()\n",
    "plt.show()"
   ]
  },
  {
   "cell_type": "code",
   "execution_count": 685,
   "id": "7ecf9d65",
   "metadata": {},
   "outputs": [
    {
     "data": {
      "text/plain": [
       "1.5869011089387206"
      ]
     },
     "execution_count": 685,
     "metadata": {},
     "output_type": "execute_result"
    }
   ],
   "source": [
    "area = 0\n",
    "for i in acept:\n",
    "    area = area+f(i)\n",
    "area/N"
   ]
  },
  {
   "cell_type": "code",
   "execution_count": 672,
   "id": "a25e92c5",
   "metadata": {},
   "outputs": [
    {
     "data": {
      "text/plain": [
       "1.0059129704939613"
      ]
     },
     "execution_count": 672,
     "metadata": {},
     "output_type": "execute_result"
    }
   ],
   "source": [
    "def Integral( N, a=0,b=1 ):\n",
    "    \n",
    "    x = np.random.uniform(a,b,size=int(N))\n",
    "    y = f(x)\n",
    "      \n",
    "    return np.mean( y )*(b-a)\n",
    "Integral(N)"
   ]
  },
  {
   "cell_type": "code",
   "execution_count": null,
   "id": "59d2f1bd",
   "metadata": {},
   "outputs": [],
   "source": []
  }
 ],
 "metadata": {
  "kernelspec": {
   "display_name": "Python 3 (ipykernel)",
   "language": "python",
   "name": "python3"
  },
  "language_info": {
   "codemirror_mode": {
    "name": "ipython",
    "version": 3
   },
   "file_extension": ".py",
   "mimetype": "text/x-python",
   "name": "python",
   "nbconvert_exporter": "python",
   "pygments_lexer": "ipython3",
   "version": "3.8.8"
  }
 },
 "nbformat": 4,
 "nbformat_minor": 5
}
