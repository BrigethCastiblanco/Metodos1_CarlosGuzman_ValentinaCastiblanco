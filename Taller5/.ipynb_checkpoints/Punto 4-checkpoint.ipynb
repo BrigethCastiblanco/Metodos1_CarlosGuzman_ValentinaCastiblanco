{
 "cells": [
  {
   "cell_type": "code",
   "execution_count": 22,
   "id": "e951b9a4",
   "metadata": {},
   "outputs": [],
   "source": [
    "import numpy as np\n",
    "import matplotlib.pyplot as plt"
   ]
  },
  {
   "cell_type": "code",
   "execution_count": 31,
   "id": "34fc243e",
   "metadata": {},
   "outputs": [
    {
     "data": {
      "text/plain": [
       "array([ 1.,  2.,  3.,  4.,  5.,  6.,  7.,  8.,  9., 10., 11., 12., 13.,\n",
       "       14., 15., 16., 17., 18., 19., 20., 21., 22., 23., 24., 25., 26.,\n",
       "       27., 28., 29., 30.])"
      ]
     },
     "execution_count": 31,
     "metadata": {},
     "output_type": "execute_result"
    }
   ],
   "source": [
    "k=np.array([])\n",
    "for i in range(1, 31):\n",
    "    k=np.append(k,i)\n",
    "k"
   ]
  },
  {
   "cell_type": "code",
   "execution_count": 32,
   "id": "9f16cc99",
   "metadata": {},
   "outputs": [],
   "source": [
    "N=10000\n",
    "x=np.random.rand(N)\n",
    "res = np.array([])"
   ]
  },
  {
   "cell_type": "code",
   "execution_count": 33,
   "id": "029fc856",
   "metadata": {},
   "outputs": [
    {
     "data": {
      "text/plain": [
       "31"
      ]
     },
     "execution_count": 33,
     "metadata": {},
     "output_type": "execute_result"
    }
   ],
   "source": [
    "for i in range(len(k)+1):\n",
    "    \n",
    "    op = 0\n",
    "    for j in range(N):\n",
    "        if (i+j)<=(N-1):\n",
    "            op += (x[j]*x[j+i])\n",
    "        else:\n",
    "            op += 0\n",
    "    re = op / N\n",
    "    res = np.append(res,re)\n",
    "len(res)"
   ]
  },
  {
   "cell_type": "code",
   "execution_count": 36,
   "id": "9896f71c",
   "metadata": {},
   "outputs": [
    {
     "data": {
      "text/plain": [
       "array([0.24956399, 0.25142739, 0.25082713, 0.25065773, 0.25161019,\n",
       "       0.25107326, 0.25100578, 0.25109807, 0.25100512, 0.25019806,\n",
       "       0.25007209, 0.24948415, 0.25088662, 0.25163252, 0.24986741,\n",
       "       0.25099679, 0.25010643, 0.24835699, 0.25072757, 0.25038047,\n",
       "       0.24892584, 0.24942005, 0.24997103, 0.2513442 , 0.24969839,\n",
       "       0.24934782, 0.25212796, 0.24996693, 0.24966596, 0.25132664])"
      ]
     },
     "execution_count": 36,
     "metadata": {},
     "output_type": "execute_result"
    }
   ],
   "source": [
    "res = np.delete(res,0)\n",
    "res"
   ]
  },
  {
   "cell_type": "code",
   "execution_count": 39,
   "id": "1dfa8e91",
   "metadata": {},
   "outputs": [
    {
     "data": {
      "text/plain": [
       "[<matplotlib.lines.Line2D at 0x7fc2e6bfa6a0>]"
      ]
     },
     "execution_count": 39,
     "metadata": {},
     "output_type": "execute_result"
    },
    {
     "data": {
      "image/png": "[encoded data removed]",
      "text/plain": [
       "<Figure size 360x360 with 1 Axes>"
      ]
     },
     "metadata": {
      "needs_background": "light"
     },
     "output_type": "display_data"
    }
   ],
   "source": [
    "fig = plt.figure(figsize=(5,5))\n",
    "ax = fig.add_subplot(111)\n",
    "ax.plot(k,res)"
   ]
  },
  {
   "cell_type": "code",
   "execution_count": 49,
   "id": "7f596e39",
   "metadata": {},
   "outputs": [
    {
     "name": "stdout",
     "output_type": "stream",
     "text": [
      "Las correlaciones para cada k vecino hasta 30 son: \n",
      "[0.24956399 0.25142739 0.25082713 0.25065773 0.25161019 0.25107326\n",
      " 0.25100578 0.25109807 0.25100512 0.25019806 0.25007209 0.24948415\n",
      " 0.25088662 0.25163252 0.24986741 0.25099679 0.25010643 0.24835699\n",
      " 0.25072757 0.25038047 0.24892584 0.24942005 0.24997103 0.2513442\n",
      " 0.24969839 0.24934782 0.25212796 0.24996693 0.24966596 0.25132664]\n"
     ]
    }
   ],
   "source": [
    "print('Las correlaciones para cada k vecino hasta 30 son: \\n'  + str(res))"
   ]
  },
  {
   "cell_type": "code",
   "execution_count": null,
   "id": "34c0189c",
   "metadata": {},
   "outputs": [],
   "source": []
  }
 ],
 "metadata": {
  "kernelspec": {
   "display_name": "Python 3 (ipykernel)",
   "language": "python",
   "name": "python3"
  },
  "language_info": {
   "codemirror_mode": {
    "name": "ipython",
    "version": 3
   },
   "file_extension": ".py",
   "mimetype": "text/x-python",
   "name": "python",
   "nbconvert_exporter": "python",
   "pygments_lexer": "ipython3",
   "version": "3.8.8"
  }
 },
 "nbformat": 4,
 "nbformat_minor": 5
}
