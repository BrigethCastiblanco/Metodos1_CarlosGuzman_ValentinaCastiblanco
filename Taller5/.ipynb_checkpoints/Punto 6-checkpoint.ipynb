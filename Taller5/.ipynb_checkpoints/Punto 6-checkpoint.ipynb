{
 "cells": [
  {
   "cell_type": "code",
   "execution_count": 14,
   "id": "35560b3e",
   "metadata": {},
   "outputs": [],
   "source": [
    "import matplotlib.pyplot as plt\n",
    "import numpy as np"
   ]
  },
  {
   "cell_type": "code",
   "execution_count": 15,
   "id": "d5ce30c5",
   "metadata": {},
   "outputs": [
    {
     "name": "stderr",
     "output_type": "stream",
     "text": [
      "<ipython-input-15-7bb55560512a>:10: RuntimeWarning: invalid value encountered in sqrt\n",
      "  index = np.where( z <= np.sqrt(1-x**2-y**2))\n"
     ]
    },
    {
     "data": {
      "text/plain": [
       "9.024568343838347"
      ]
     },
     "execution_count": 15,
     "metadata": {},
     "output_type": "execute_result"
    }
   ],
   "source": [
    "def funcion(x,y,z):\n",
    "    \n",
    "    return np.exp(np.sqrt(x**2 + y**2 +z**2))\n",
    "\n",
    "n = 100000\n",
    "\n",
    "x = np.random.rand(n)\n",
    "y = np.random.rand(n)\n",
    "z = np.random.rand(n)\n",
    "index = np.where( z <= np.sqrt(1-x**2-y**2))\n",
    "\n",
    "\n",
    "xc = x[index]\n",
    "yc = y[index]\n",
    "zc = z[index]\n",
    "integral = 0\n",
    "lista = np.zeros(len(xc))\n",
    "for i in range(len(xc)):\n",
    "    x = xc[i]\n",
    "    y = yc[i]\n",
    "    z = zc[i]\n",
    "    \n",
    "    funci = funcion(x,y,z)\n",
    "    \n",
    "    lista[i] = funci\n",
    "sum_ = np.sum(lista)/len(xc)\n",
    "inte= sum_*(4*np.pi*1/3)\n",
    "inte"
   ]
  },
  {
   "cell_type": "code",
   "execution_count": 16,
   "id": "2e6c8aae",
   "metadata": {},
   "outputs": [
    {
     "name": "stdout",
     "output_type": "stream",
     "text": [
      "La integral de la esfera es: 9.024568343838347\n"
     ]
    }
   ],
   "source": [
    "print('La integral de la esfera es: ' + str(inte))"
   ]
  },
  {
   "cell_type": "code",
   "execution_count": null,
   "id": "13989d98",
   "metadata": {},
   "outputs": [],
   "source": []
  },
  {
   "cell_type": "code",
   "execution_count": null,
   "id": "bb61773e",
   "metadata": {},
   "outputs": [],
   "source": []
  },
  {
   "cell_type": "code",
   "execution_count": null,
   "id": "d5099860",
   "metadata": {},
   "outputs": [],
   "source": []
  }
 ],
 "metadata": {
  "kernelspec": {
   "display_name": "Python 3 (ipykernel)",
   "language": "python",
   "name": "python3"
  },
  "language_info": {
   "codemirror_mode": {
    "name": "ipython",
    "version": 3
   },
   "file_extension": ".py",
   "mimetype": "text/x-python",
   "name": "python",
   "nbconvert_exporter": "python",
   "pygments_lexer": "ipython3",
   "version": "3.8.8"
  }
 },
 "nbformat": 4,
 "nbformat_minor": 5
}
