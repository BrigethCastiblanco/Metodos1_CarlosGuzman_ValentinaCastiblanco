{
 "cells": [
  {
   "cell_type": "code",
   "execution_count": 113,
   "id": "c22173d4",
   "metadata": {},
   "outputs": [],
   "source": [
    "import numpy as np\n",
    "import sympy as sym"
   ]
  },
  {
   "cell_type": "code",
   "execution_count": 312,
   "id": "5eb44f46",
   "metadata": {},
   "outputs": [
    {
     "data": {
      "text/plain": [
       "100"
      ]
     },
     "execution_count": 312,
     "metadata": {},
     "output_type": "execute_result"
    }
   ],
   "source": [
    "N=100\n",
    "a=0\n",
    "b=1\n",
    "xi = np.random.uniform(a,b,(N,8))\n",
    "len(xi)"
   ]
  },
  {
   "cell_type": "code",
   "execution_count": 313,
   "id": "99d987ee",
   "metadata": {},
   "outputs": [
    {
     "data": {
      "text/plain": [
       "164687.4008062161"
      ]
     },
     "execution_count": 313,
     "metadata": {},
     "output_type": "execute_result"
    }
   ],
   "source": [
    "s=0\n",
    "for i in xi:\n",
    "    for j in i:\n",
    "        s = s+j\n",
    "suma = s**2\n",
    "suma"
   ]
  },
  {
   "cell_type": "code",
   "execution_count": 314,
   "id": "0f6aa84d",
   "metadata": {},
   "outputs": [
    {
     "data": {
      "text/plain": [
       "12.866203187985631"
      ]
     },
     "execution_count": 314,
     "metadata": {},
     "output_type": "execute_result"
    }
   ],
   "source": [
    "def f(suma):\n",
    "    return (2**(-7))*suma\n",
    "m=f(suma)/N\n",
    "m"
   ]
  },
  {
   "cell_type": "code",
   "execution_count": 315,
   "id": "09e38e88",
   "metadata": {},
   "outputs": [
    {
     "data": {
      "text/plain": [
       "0.129"
      ]
     },
     "execution_count": 315,
     "metadata": {},
     "output_type": "execute_result"
    }
   ],
   "source": [
    "def integral(a,b,N,m):\n",
    "    intg = ((((b-a)**8)*m)/N)\n",
    "    return intg\n",
    "r=integral(a,b,N,m)\n",
    "\n",
    "round(r, 3)"
   ]
  },
  {
   "cell_type": "code",
   "execution_count": 237,
   "id": "0aa7b0c0",
   "metadata": {},
   "outputs": [
    {
     "data": {
      "text/plain": [
       "0.13020833333333334"
      ]
     },
     "execution_count": 237,
     "metadata": {},
     "output_type": "execute_result"
    }
   ],
   "source": [
    "25/192"
   ]
  },
  {
   "cell_type": "code",
   "execution_count": null,
   "id": "ea2eadd1",
   "metadata": {},
   "outputs": [],
   "source": []
  }
 ],
 "metadata": {
  "kernelspec": {
   "display_name": "Python 3 (ipykernel)",
   "language": "python",
   "name": "python3"
  },
  "language_info": {
   "codemirror_mode": {
    "name": "ipython",
    "version": 3
   },
   "file_extension": ".py",
   "mimetype": "text/x-python",
   "name": "python",
   "nbconvert_exporter": "python",
   "pygments_lexer": "ipython3",
   "version": "3.9.12"
  }
 },
 "nbformat": 4,
 "nbformat_minor": 5
}
