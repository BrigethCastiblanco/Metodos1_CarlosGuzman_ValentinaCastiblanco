{
 "cells": [
  {
   "cell_type": "code",
   "execution_count": 1,
   "id": "35560b3e",
   "metadata": {},
   "outputs": [],
   "source": [
    "import matplotlib.pyplot as plt\n",
    "import numpy as np"
   ]
  },
  {
   "cell_type": "code",
   "execution_count": 48,
   "id": "d5ce30c5",
   "metadata": {},
   "outputs": [
    {
     "name": "stdout",
     "output_type": "stream",
     "text": [
      "0\n"
     ]
    },
    {
     "name": "stderr",
     "output_type": "stream",
     "text": [
      "<ipython-input-48-1e057b13e149>:10: RuntimeWarning: invalid value encountered in sqrt\n",
      "  index = np.where( np.sqrt(0-(x**2) - (y**2)) <= z )\n"
     ]
    }
   ],
   "source": [
    "def funcion(x,y,z):\n",
    "    \n",
    "    return np.exp(np.sqrt(x**2 + y**2 +z**2))\n",
    "\n",
    "n = 100000\n",
    "\n",
    "x = np.random.rand(n)\n",
    "y = np.random.rand(n)\n",
    "z = np.random.rand(n)\n",
    "index = np.where( np.sqrt(0-(x**2) - (y**2)) <= z )\n",
    "\n",
    "\n",
    "xc = x[index]\n",
    "yc = y[index]\n",
    "zc = z[index]\n",
    "integral = 0\n",
    "\n",
    "print(len(xc))"
   ]
  },
  {
   "cell_type": "code",
   "execution_count": 53,
   "id": "2e6c8aae",
   "metadata": {},
   "outputs": [
    {
     "data": {
      "text/plain": [
       "9.02784"
      ]
     },
     "execution_count": 53,
     "metadata": {},
     "output_type": "execute_result"
    }
   ],
   "source": [
    "volumen_cone = 0\n",
    "volumen_para = 1\n",
    "puntos_cal= 75232\n",
    "volumen_cone = (puntos_cal*12)/100000\n",
    "volumen_cone"
   ]
  },
  {
   "cell_type": "code",
   "execution_count": null,
   "id": "13989d98",
   "metadata": {},
   "outputs": [],
   "source": [
    "def funcion(x,y,z):\n",
    "    \n",
    "    return np.exp(np.sqrt(x**2 + y**2 +z**2))\n",
    "\n",
    "for n in xrange(numpoints):\n",
    "  x=random.uniform()\n",
    "  y=random.uniform()\n",
    "  z=random.uniform()\n",
    "\n",
    "\n",
    "    \n"
   ]
  }
 ],
 "metadata": {
  "kernelspec": {
   "display_name": "Python 3 (ipykernel)",
   "language": "python",
   "name": "python3"
  },
  "language_info": {
   "codemirror_mode": {
    "name": "ipython",
    "version": 3
   },
   "file_extension": ".py",
   "mimetype": "text/x-python",
   "name": "python",
   "nbconvert_exporter": "python",
   "pygments_lexer": "ipython3",
   "version": "3.8.8"
  }
 },
 "nbformat": 4,
 "nbformat_minor": 5
}
