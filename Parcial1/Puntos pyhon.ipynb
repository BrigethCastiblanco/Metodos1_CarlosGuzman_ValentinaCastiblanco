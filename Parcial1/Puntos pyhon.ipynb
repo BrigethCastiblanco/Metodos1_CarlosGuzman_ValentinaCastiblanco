{
 "cells": [
  {
   "cell_type": "code",
   "execution_count": 1,
   "metadata": {},
   "outputs": [],
   "source": [
    "import numpy as np\n",
    "import matplotlib.pyplot as plt\n",
    "import sympy as sym"
   ]
  },
  {
   "cell_type": "code",
   "execution_count": 17,
   "metadata": {},
   "outputs": [],
   "source": [
    "x= np.linspace(0.1,1.1,100)"
   ]
  },
  {
   "cell_type": "code",
   "execution_count": 34,
   "metadata": {},
   "outputs": [
    {
     "data": {
      "text/plain": [
       "array([0.31675649, 0.3324877 , 0.34754036, 0.36200213, 0.37594412,\n",
       "       0.38942502, 0.40249393, 0.4151925 , 0.42755642, 0.43961656,\n",
       "       0.45139989, 0.46293013, 0.47422832, 0.48531321, 0.49620162,\n",
       "       0.50690875, 0.51744838, 0.52783304, 0.53807423, 0.54818253,\n",
       "       0.55816767, 0.5680387 , 0.57780402, 0.58747148, 0.59704842,\n",
       "       0.60654173, 0.61595793, 0.62530317, 0.63458326, 0.64380377,\n",
       "       0.65296998, 0.66208694, 0.67115952, 0.68019237, 0.68919   ,\n",
       "       0.69815675, 0.70709684, 0.71601438, 0.72491335, 0.73379765,\n",
       "       0.74267111, 0.75153746, 0.76040041, 0.76926359, 0.77813058,\n",
       "       0.78700497, 0.79589027, 0.80479002, 0.81370773, 0.8226469 ,\n",
       "       0.83161105, 0.84060371, 0.84962844, 0.8586888 , 0.86778841,\n",
       "       0.87693092, 0.88612003, 0.8953595 , 0.90465315, 0.91400487,\n",
       "       0.92341863, 0.93289849, 0.94244861, 0.95207324, 0.96177675,\n",
       "       0.97156365, 0.98143855, 0.99140622, 1.00147161, 1.01163979,\n",
       "       1.02191604, 1.03230582, 1.04281481, 1.05344889, 1.06421419,\n",
       "       1.0751171 , 1.08616427, 1.09736266, 1.10871953, 1.12024248,\n",
       "       1.13193947, 1.14381885, 1.1558894 , 1.16816034, 1.18064138,\n",
       "       1.19334273, 1.20627519, 1.21945016, 1.23287969, 1.24657653,\n",
       "       1.26055421, 1.2748271 , 1.28941046, 1.30432052, 1.3195746 ,\n",
       "       1.33519118, 1.35118998, 1.36759215, 1.38442034, 1.40169885])"
      ]
     },
     "execution_count": 34,
     "metadata": {},
     "output_type": "execute_result"
    }
   ],
   "source": [
    "f = lambda x:(np.tan(x))**0.5\n",
    "f(x)"
   ]
  },
  {
   "cell_type": "code",
   "execution_count": 19,
   "metadata": {},
   "outputs": [],
   "source": [
    "h=0.01\n"
   ]
  },
  {
   "cell_type": "code",
   "execution_count": 24,
   "metadata": {},
   "outputs": [],
   "source": [
    "def derivada_progresiva(f,x):\n",
    "    \n",
    "    return ((-3*f(x))+4*f(x+h)-f(x+2*h))"
   ]
  },
  {
   "cell_type": "code",
   "execution_count": 71,
   "metadata": {},
   "outputs": [
    {
     "name": "stdout",
     "output_type": "stream",
     "text": [
      "La derivada real es: \n",
      " [0.0318208  0.03039026 0.02914971 0.02806232 0.02710061 0.02624359\n",
      " 0.02547491 0.02478166 0.02415345 0.02358183 0.02305988 0.02258181\n",
      " 0.02214279 0.02173872 0.02136613 0.02102201 0.02070381 0.02040927\n",
      " 0.02013646 0.01988367 0.0196494  0.01943232 0.01923127 0.0190452\n",
      " 0.01887319 0.01871441 0.01856812 0.01843366 0.01831043 0.0181979\n",
      " 0.0180956  0.01800308 0.01791997 0.01784592 0.01778061 0.01772377\n",
      " 0.01767515 0.01763453 0.01760171 0.01757652 0.01755881 0.01754846\n",
      " 0.01754535 0.01754939 0.01756051 0.01757865 0.01760377 0.01763585\n",
      " 0.01767487 0.01772084 0.01777378 0.01783372 0.01790071 0.0179748\n",
      " 0.01805608 0.01814463 0.01824056 0.01834399 0.01845504 0.01857386\n",
      " 0.01870063 0.01883552 0.01897873 0.01913047 0.01929098 0.01946052\n",
      " 0.01963934 0.01982776 0.02002608 0.02023465 0.02045383 0.02068403\n",
      " 0.02092565 0.02117916 0.02144503 0.0217238  0.02201601 0.02232228\n",
      " 0.02264324 0.02297958 0.02333205 0.02370143 0.0240886  0.02449447\n",
      " 0.02492003 0.02536635 0.02583459 0.02632599 0.02684189 0.02738376\n",
      " 0.02795317 0.02855182 0.02918158 0.02984447 0.03054267 0.0312786\n",
      " 0.03205486 0.03287431 0.0337401  0.03465567]\n"
     ]
    }
   ],
   "source": [
    "print('La derivada real es: \\n', derivada_progresiva(f,x))"
   ]
  },
  {
   "cell_type": "code",
   "execution_count": 58,
   "metadata": {},
   "outputs": [],
   "source": [
    "def derivada_central (f,x):\n",
    "    \n",
    "    return (f(x+h)-f(x-h))/2*h"
   ]
  },
  {
   "cell_type": "code",
   "execution_count": 73,
   "metadata": {},
   "outputs": [
    {
     "name": "stdout",
     "output_type": "stream",
     "text": [
      "La derivada real es: \n",
      " [1.59639318e-04 1.52376943e-04 1.46093851e-04 1.40596522e-04\n",
      " 1.35741550e-04 1.31420084e-04 1.27547798e-04 1.24058214e-04\n",
      " 1.20898118e-04 1.18024345e-04 1.15401467e-04 1.13000098e-04\n",
      " 1.10795638e-04 1.08767321e-04 1.06897480e-04 1.05170986e-04\n",
      " 1.03574804e-04 1.02097636e-04 1.00729642e-04 9.94622129e-05\n",
      " 9.82877835e-05 9.71996818e-05 9.61920029e-05 9.52595055e-05\n",
      " 9.43975240e-05 9.36018962e-05 9.28689009e-05 9.21952058e-05\n",
      " 9.15778230e-05 9.10140703e-05 9.05015389e-05 9.00380648e-05\n",
      " 8.96217043e-05 8.92507134e-05 8.89235286e-05 8.86387514e-05\n",
      " 8.83951344e-05 8.81915688e-05 8.80270740e-05 8.79007881e-05\n",
      " 8.78119601e-05 8.77599426e-05 8.77441858e-05 8.77642320e-05\n",
      " 8.78197113e-05 8.79103372e-05 8.80359040e-05 8.81962833e-05\n",
      " 8.83914223e-05 8.86213414e-05 8.88861334e-05 8.91859625e-05\n",
      " 8.95210631e-05 8.98917405e-05 9.02983704e-05 9.07413998e-05\n",
      " 9.12213476e-05 9.17388061e-05 9.22944425e-05 9.28890008e-05\n",
      " 9.35233041e-05 9.41982574e-05 9.49148506e-05 9.56741621e-05\n",
      " 9.64773627e-05 9.73257201e-05 9.82206038e-05 9.91634904e-05\n",
      " 1.00155970e-04 1.01199753e-04 1.02296676e-04 1.03448711e-04\n",
      " 1.04657977e-04 1.05926744e-04 1.07257448e-04 1.08652702e-04\n",
      " 1.10115307e-04 1.11648271e-04 1.13254818e-04 1.14938413e-04\n",
      " 1.16702773e-04 1.18551896e-04 1.20490079e-04 1.22521945e-04\n",
      " 1.24652473e-04 1.26887027e-04 1.29231396e-04 1.31691828e-04\n",
      " 1.34275077e-04 1.36988448e-04 1.39839858e-04 1.42837892e-04\n",
      " 1.45991871e-04 1.49311932e-04 1.52809117e-04 1.56495462e-04\n",
      " 1.60384121e-04 1.64489479e-04 1.68827307e-04 1.73414918e-04]\n"
     ]
    }
   ],
   "source": [
    "print('La derivada real es: \\n', derivada_central(f,x))"
   ]
  },
  {
   "cell_type": "code",
   "execution_count": 60,
   "metadata": {},
   "outputs": [],
   "source": [
    "der_real= ((1/(np.cos(x)))**2 / (2*(np.tan(x))**0.5))"
   ]
  },
  {
   "cell_type": "code",
   "execution_count": 74,
   "metadata": {},
   "outputs": [
    {
     "name": "stdout",
     "output_type": "stream",
     "text": [
      "La derivada real es: \n",
      " [1.59439047 1.52219298 1.45967055 1.40492674 1.35655173 1.31347273\n",
      " 1.27485703 1.2400471  1.20851593 1.17983554 1.15365436 1.12968055\n",
      " 1.10766965 1.08741515 1.06874131 1.05149756 1.0355541  1.02079842\n",
      " 1.00713248 0.9944705  0.98273706 0.97186566 0.96179741 0.95248003\n",
      " 0.94386699 0.93591678 0.92859225 0.92186017 0.91569071 0.91005711\n",
      " 0.90493533 0.90030375 0.89614299 0.89243563 0.88916606 0.88632032\n",
      " 0.88388596 0.8818519  0.88020836 0.87894673 0.8780595  0.87754022\n",
      " 0.8773834  0.87758447 0.87813973 0.87904632 0.8803022  0.88190608\n",
      " 0.88385743 0.88615647 0.88880412 0.89180203 0.89515254 0.8988587\n",
      " 0.90292427 0.90735372 0.91215223 0.91732572 0.92288087 0.92882511\n",
      " 0.93516667 0.94191458 0.94907876 0.95666996 0.9646999  0.97318123\n",
      " 0.98212766 0.99155393 1.00147594 1.01191077 1.02287678 1.03439368\n",
      " 1.04648263 1.05916633 1.0724691  1.08641706 1.10103821 1.11636258\n",
      " 1.13242241 1.14925228 1.16688937 1.18537359 1.20474787 1.22505841\n",
      " 1.24635493 1.26869104 1.29212454 1.31671784 1.3425384  1.36965921\n",
      " 1.39815931 1.42812444 1.4596477  1.49283032 1.52778253 1.56462455\n",
      " 1.60348767 1.64451555 1.68786561 1.73371068]\n"
     ]
    }
   ],
   "source": [
    "print('La derivada real es: \\n', der_real)"
   ]
  },
  {
   "cell_type": "code",
   "execution_count": null,
   "metadata": {},
   "outputs": [],
   "source": []
  },
  {
   "cell_type": "code",
   "execution_count": null,
   "metadata": {},
   "outputs": [],
   "source": []
  },
  {
   "cell_type": "code",
   "execution_count": 65,
   "metadata": {},
   "outputs": [
    {
     "data": {
      "text/plain": [
       "<matplotlib.collections.PathCollection at 0x7fa7676eb240>"
      ]
     },
     "execution_count": 65,
     "metadata": {},
     "output_type": "execute_result"
    },
    {
     "data": {
      "image/png": "[encoded data removed]",
      "text/plain": [
       "<Figure size 504x216 with 1 Axes>"
      ]
     },
     "metadata": {},
     "output_type": "display_data"
    }
   ],
   "source": [
    "fig = plt.figure(figsize=(7,3))\n",
    "ax2 = fig.add_subplot(2,2,1)\n",
    "\n",
    "\n",
    "ax2.scatter(x, np.abs(der_real-derivada_central(f,x)), color=\"m\")#error\n"
   ]
  },
  {
   "cell_type": "markdown",
   "metadata": {},
   "source": [
    "En este caso el orden de precision de ambos resultados no es igual, variando entre tres y cuatro ordenes de magnitud. "
   ]
  },
  {
   "cell_type": "code",
   "execution_count": null,
   "metadata": {},
   "outputs": [],
   "source": []
  }
 ],
 "metadata": {
  "kernelspec": {
   "display_name": "Python 3",
   "language": "python",
   "name": "python3"
  },
  "language_info": {
   "codemirror_mode": {
    "name": "ipython",
    "version": 3
   },
   "file_extension": ".py",
   "mimetype": "text/x-python",
   "name": "python",
   "nbconvert_exporter": "python",
   "pygments_lexer": "ipython3",
   "version": "3.6.5"
  }
 },
 "nbformat": 4,
 "nbformat_minor": 2
}
