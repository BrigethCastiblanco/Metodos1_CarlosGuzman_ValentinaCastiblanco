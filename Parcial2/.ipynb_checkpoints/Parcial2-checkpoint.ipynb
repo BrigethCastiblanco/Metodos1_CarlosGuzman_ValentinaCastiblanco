{
 "cells": [
  {
   "cell_type": "code",
   "execution_count": 1,
   "id": "6dc19cf2",
   "metadata": {},
   "outputs": [],
   "source": [
    "import sympy as sym\n",
    "import numpy as np"
   ]
  },
  {
   "cell_type": "code",
   "execution_count": 2,
   "id": "498ca6d6",
   "metadata": {},
   "outputs": [],
   "source": [
    "#Aqui iria lo de la sumatoria "
   ]
  },
  {
   "cell_type": "code",
   "execution_count": 3,
   "id": "0e82d0d5",
   "metadata": {},
   "outputs": [
    {
     "data": {
      "text/latex": [
       "$\\displaystyle a_{0,0} + a_{0,1} y + a_{1,0} x + a_{1,1} x y$"
      ],
      "text/plain": [
       "a_0,0 + a_0,1*y + a_1,0*x + a_1,1*x*y"
      ]
     },
     "execution_count": 3,
     "metadata": {},
     "output_type": "execute_result"
    }
   ],
   "source": [
    "coeficientes = []\n",
    "x=sym.Symbol(\"x\")\n",
    "y=sym.Symbol(\"y\")\n",
    "for i in range(2):\n",
    "    for j in range(2):\n",
    "        c=i,j\n",
    "        coeficientes.append(c)\n",
    "        \n",
    "var= []\n",
    "for i in coeficientes:\n",
    "    v = x**i[0]*y**i[1]\n",
    "    var.append(v)\n",
    "    \n",
    "a = sym.symbols('a_0:2\\,0:2') \n",
    "terminos=[]\n",
    "for i in range(4):\n",
    "    ter=a[i]*var[i]\n",
    "    terminos.append(ter)\n",
    "sum(terminos)"
   ]
  },
  {
   "cell_type": "code",
   "execution_count": 4,
   "id": "aa57c405",
   "metadata": {},
   "outputs": [],
   "source": [
    "p = sym.symbols('p_0:4') \n",
    "def temperatura_espejo(p):\n",
    "    coeficientes = []\n",
    "    x=sym.Symbol(\"x\")\n",
    "    y=sym.Symbol(\"y\")\n",
    "    for i in range(2):\n",
    "        for j in range(2):\n",
    "            c=i,j\n",
    "            coeficientes.append(c)\n",
    "    var= []\n",
    "    for i in coeficientes:\n",
    "        v = x**i[0]*y**i[1]\n",
    "        var.append(v)\n",
    "    terminos=[]\n",
    "    for i in range(len(p)):\n",
    "        ter=p[i]*var[i]\n",
    "        terminos.append(ter)\n",
    "    return sum(terminos)"
   ]
  },
  {
   "cell_type": "code",
   "execution_count": 5,
   "id": "a1943149",
   "metadata": {},
   "outputs": [
    {
     "data": {
      "text/latex": [
       "$\\displaystyle p_{0} + p_{1} y + p_{2} x + p_{3} x y$"
      ],
      "text/plain": [
       "p_0 + p_1*y + p_2*x + p_3*x*y"
      ]
     },
     "execution_count": 5,
     "metadata": {},
     "output_type": "execute_result"
    }
   ],
   "source": [
    "temperatura_espejo(p)"
   ]
  },
  {
   "cell_type": "code",
   "execution_count": null,
   "id": "3d3f4a1e",
   "metadata": {},
   "outputs": [],
   "source": []
  },
  {
   "cell_type": "code",
   "execution_count": 3,
   "id": "91dc9d62",
   "metadata": {},
   "outputs": [
    {
     "name": "stdout",
     "output_type": "stream",
     "text": [
      "La matriz posicion esta dada por: \n",
      "[[ 1.  1.]\n",
      " [-1.  1.]\n",
      " [-1. -1.]\n",
      " [ 1. -1.]]\n"
     ]
    }
   ],
   "source": [
    "position = np.zeros((4,2))\n",
    "position[0] = [1,1]\n",
    "position[1] = [-1,1]\n",
    "position[2] = [-1,-1]\n",
    "position[3] = [1,-1]\n",
    "print('La matriz posicion esta dada por: \\n' + str(position))"
   ]
  },
  {
   "cell_type": "code",
   "execution_count": 4,
   "id": "e69a9ad7",
   "metadata": {},
   "outputs": [
    {
     "name": "stdout",
     "output_type": "stream",
     "text": [
      " La matriz de coeficientes es: \n",
      " [[ 1.  1.  1.  1.]\n",
      " [ 1.  1. -1. -1.]\n",
      " [ 1. -1. -1.  1.]\n",
      " [ 1. -1.  1. -1.]]\n"
     ]
    }
   ],
   "source": [
    "matriz_coeff= np.zeros((4,4))\n",
    "matriz_coeff[0] = [1,1,1,1]\n",
    "matriz_coeff[1] = [1,1,-1,-1]\n",
    "matriz_coeff[2] = [1,-1,-1,1]\n",
    "matriz_coeff[3] = [1,-1,1,-1]\n",
    "matriz_coeff1 = np.linalg.inv(matriz_coeff)\n",
    "print(' La matriz de coeficientes es: \\n ' + str(matriz_coeff))"
   ]
  },
  {
   "cell_type": "code",
   "execution_count": 5,
   "id": "d80672f0",
   "metadata": {},
   "outputs": [],
   "source": [
    "matriz_res = np.zeros((4,1))\n",
    "matriz_res[0] = [1]\n",
    "matriz_res[1] = [0.3]\n",
    "matriz_res[2] = [0.5]\n",
    "matriz_res[3] = [2]\n"
   ]
  },
  {
   "cell_type": "code",
   "execution_count": 6,
   "id": "83f88829",
   "metadata": {},
   "outputs": [
    {
     "name": "stdout",
     "output_type": "stream",
     "text": [
      "La solucion del sistema matricial es: \n",
      "[[ 0.95]\n",
      " [-0.3 ]\n",
      " [ 0.55]\n",
      " [-0.2 ]]\n"
     ]
    }
   ],
   "source": [
    "res = np.dot( matriz_coeff1, matriz_res)\n",
    "print( 'La solucion del sistema matricial es: \\n' + str(res))"
   ]
  },
  {
   "cell_type": "code",
   "execution_count": 7,
   "id": "bff5420d",
   "metadata": {},
   "outputs": [],
   "source": [
    "def fun(ma):\n",
    "    \n",
    "    return 0.95 + (-0.2*ma[0]) + (0.55*ma[1]) + (-0.3*ma[0]*ma[1])"
   ]
  },
  {
   "cell_type": "code",
   "execution_count": 8,
   "id": "6064d415",
   "metadata": {},
   "outputs": [
    {
     "name": "stdout",
     "output_type": "stream",
     "text": [
      "Para la primera posicion[1. 1.] su temperatura es: 1.0\n",
      " Para la primera posicion[-1.  1.] su temperatura es: 2.0\n",
      " Para la primera posicion[-1. -1.] su temperatura es: 0.2999999999999999\n",
      " Para la primera posicion[ 1. -1.] su temperatura es: 0.49999999999999994\n"
     ]
    }
   ],
   "source": [
    "print('Para la primera posicion' + str(position[0]) + ' su temperatura es: ' + str( fun(position[0])) + '\\n',\n",
    "      'Para la primera posicion' + str(position[1]) + ' su temperatura es: ' + str( fun(position[1])) + '\\n',\n",
    "      'Para la primera posicion' + str(position[2]) + ' su temperatura es: ' + str( fun(position[2])) + '\\n',\n",
    "      'Para la primera posicion' + str(position[3]) + ' su temperatura es: ' + str( fun(position[3])))"
   ]
  },
  {
   "cell_type": "code",
   "execution_count": 9,
   "id": "579407e1",
   "metadata": {},
   "outputs": [],
   "source": [
    "#Aqui iria el codigo de la grafica"
   ]
  },
  {
   "cell_type": "code",
   "execution_count": 10,
   "id": "b23c0286",
   "metadata": {},
   "outputs": [],
   "source": [
    "def T(x,y):\n",
    "    return 0.95 + (-0.2*x) + (0.55*y) + (-0.3*x*y)"
   ]
  },
  {
   "cell_type": "code",
   "execution_count": 11,
   "id": "d5b00c12",
   "metadata": {},
   "outputs": [
    {
     "data": {
      "image/png": "[encoded data removed]",
      "text/plain": [
       "<Figure size 432x288 with 2 Axes>"
      ]
     },
     "metadata": {
      "needs_background": "light"
     },
     "output_type": "display_data"
    }
   ],
   "source": [
    "import matplotlib.pyplot as plt\n",
    "from matplotlib import cm\n",
    "\n",
    "x=np.linspace(-1,1,1000)\n",
    "y=np.linspace(-1,1,1000)\n",
    "X, Y = np.meshgrid(x, y)\n",
    "Z=T(X,Y)\n",
    "fig, ax = plt.subplots()\n",
    "g=ax.contourf(X,Y,Z,levels=50, cmap=cm.coolwarm)\n",
    "fig.colorbar(g)\n",
    "plt.scatter(1,1, color=\"k\",s=150)\n",
    "plt.scatter(-1,1, color=\"k\",s=150)\n",
    "plt.scatter(1,-1, color=\"k\",s=150)\n",
    "plt.scatter(-1,-1, color=\"k\",s=150)\n",
    "plt.show()"
   ]
  },
  {
   "cell_type": "code",
   "execution_count": 12,
   "id": "cc73442c",
   "metadata": {},
   "outputs": [
    {
     "data": {
      "image/png": "[encoded data removed]",
      "text/plain": [
       "<Figure size 432x288 with 1 Axes>"
      ]
     },
     "metadata": {
      "needs_background": "light"
     },
     "output_type": "display_data"
    }
   ],
   "source": [
    "fig = plt.figure()\n",
    "ax1 = fig.add_subplot(111,projection='3d')\n",
    "x=np.linspace(-1,1,1000)\n",
    "y=np.linspace(-1,1,1000)\n",
    "X, Y = np.meshgrid(x, y)\n",
    "Z=T(X,Y)\n",
    "ax1.set_zlim(0.25, 2.0)\n",
    "\n",
    "ax1.contourf(X,Y,Z,levels=85, cmap=cm.coolwarm)\n",
    "plt.scatter(1,1,T(1,1), color=\"k\")\n",
    "plt.scatter(-1,1, T(-1,1), color=\"k\")\n",
    "plt.scatter(1,-1,T(1,-1), color=\"k\")\n",
    "plt.scatter(-1,-1,T(-1,-1), color=\"k\")\n",
    "plt.show()"
   ]
  },
  {
   "cell_type": "code",
   "execution_count": 13,
   "id": "f4ddffd8",
   "metadata": {},
   "outputs": [
    {
     "name": "stdout",
     "output_type": "stream",
     "text": [
      " Para la posicion [0, 0.5] que se desea estimar su temperatura, esta es : 1.225\n"
     ]
    }
   ],
   "source": [
    "print(' Para la posicion ' +str([0,0.5]) + ' que se desea estimar su temperatura, esta es : ' + str(fun([0,0.5])))"
   ]
  },
  {
   "cell_type": "code",
   "execution_count": 14,
   "id": "b55e32a9",
   "metadata": {},
   "outputs": [
    {
     "data": {
      "text/plain": [
       "array([[cos(theta), -sin(theta)],\n",
       "       [sin(theta), cos(theta)]], dtype=object)"
      ]
     },
     "execution_count": 14,
     "metadata": {},
     "output_type": "execute_result"
    }
   ],
   "source": [
    "import sympy as sym\n",
    "theta=sym.Symbol(\"theta\")\n",
    "m_rotacion = np.array([[sym.cos(theta),-sym.sin(theta)],[sym.sin(theta),sym.cos(theta)]])\n",
    "m_rotacion"
   ]
  },
  {
   "cell_type": "code",
   "execution_count": 15,
   "id": "b3804a87",
   "metadata": {},
   "outputs": [
    {
     "data": {
      "text/plain": [
       "[array([1., 1.]), array([-1.,  1.]), array([-1., -1.]), array([ 1., -1.])]"
      ]
     },
     "execution_count": 15,
     "metadata": {},
     "output_type": "execute_result"
    }
   ],
   "source": [
    "p=[]\n",
    "for i in range(4):\n",
    "    p.append(position[i])\n",
    "p"
   ]
  },
  {
   "cell_type": "code",
   "execution_count": 16,
   "id": "982f25c4",
   "metadata": {},
   "outputs": [
    {
     "name": "stdout",
     "output_type": "stream",
     "text": [
      "[-1.0*sin(theta) + 1.0*cos(theta), 1.0*sin(theta) + 1.0*cos(theta)]\n",
      "[-1.0*sin(theta) - 1.0*cos(theta), -1.0*sin(theta) + 1.0*cos(theta)]\n",
      "[1.0*sin(theta) - 1.0*cos(theta), -1.0*sin(theta) - 1.0*cos(theta)]\n",
      "[1.0*sin(theta) + 1.0*cos(theta), 1.0*sin(theta) - 1.0*cos(theta)]\n"
     ]
    }
   ],
   "source": [
    "for i in range(4):\n",
    "    print([sum(m_rotacion[0]*p[i]),sum(m_rotacion[1]*p[i])])"
   ]
  },
  {
   "cell_type": "code",
   "execution_count": 19,
   "id": "5b7f728e",
   "metadata": {},
   "outputs": [
    {
     "name": "stdout",
     "output_type": "stream",
     "text": [
      "0.4635594493296939\n"
     ]
    },
    {
     "data": {
      "text/plain": [
       "array([[ 0.44733187,  1.34160136],\n",
       "       [-1.34160136,  0.44733187],\n",
       "       [-0.44733187, -1.34160136],\n",
       "       [ 1.34160136, -0.44733187]])"
      ]
     },
     "execution_count": 19,
     "metadata": {},
     "output_type": "execute_result"
    }
   ],
   "source": [
    "teta = 26.56 * np.pi / 180\n",
    "print(teta)\n",
    "rotada = np.zeros((4,2))\n",
    "rotada[0] = [-1.0*np.sin(teta) + 1.0*np.cos(teta), 1.0*np.sin(teta) + 1.0*np.cos(teta)]\n",
    "rotada[1] = [-1.0*np.sin(teta) - 1.0*np.cos(teta), -1.0*np.sin(teta) + 1.0*np.cos(teta)]\n",
    "rotada[2] = [1.0*np.sin(teta) - 1.0*np.cos(teta), -1.0*np.sin(teta) - 1.0*np.cos(teta)]\n",
    "rotada[3] = [1.0*np.sin(teta) + 1.0*np.cos(teta), 1.0*np.sin(teta) - 1.0*np.cos(teta)]\n",
    "rotada"
   ]
  },
  {
   "cell_type": "code",
   "execution_count": 20,
   "id": "c47f0358",
   "metadata": {},
   "outputs": [
    {
     "name": "stdout",
     "output_type": "stream",
     "text": [
      "La matriz posicion esta dada por: \n",
      "[[ 0.44733187  1.34160136]\n",
      " [-1.34160136  0.44733187]\n",
      " [-0.44733187 -1.34160136]\n",
      " [ 1.34160136 -0.44733187]]\n"
     ]
    }
   ],
   "source": [
    "print('La matriz posicion esta dada por: \\n' + str(rotada))"
   ]
  },
  {
   "cell_type": "code",
   "execution_count": 29,
   "id": "1bee9209",
   "metadata": {},
   "outputs": [
    {
     "name": "stdout",
     "output_type": "stream",
     "text": [
      " La matriz de coeficientes es: \n",
      " [[ 1.          0.44733187  1.34160136  0.60014105]\n",
      " [ 1.          1.34160136 -0.44733187 -0.60014105]\n",
      " [ 1.         -0.44733187 -1.34160136  0.60014105]\n",
      " [ 1.         -1.34160136  0.44733187 -0.60014105]]\n"
     ]
    }
   ],
   "source": [
    "m_coeff = np.zeros ((4,4))\n",
    "m_coeff[0] = [ 1, 0.44733187, 1.34160136, 1.34160136*0.44733187]\n",
    "m_coeff[1] = [  1, 1.34160136, -0.44733187, 1.34160136*-0.44733187]\n",
    "m_coeff[2] = [ 1, -0.44733187,-1.34160136, -1.34160136*-0.44733187]\n",
    "m_coeff[3] = [ 1, -1.34160136, 0.44733187, -1.34160136*0.44733187,]\n",
    "m_coeff1 = np.linalg.inv(m_coeff)\n",
    "print(' La matriz de coeficientes es: \\n ' + str(m_coeff))"
   ]
  },
  {
   "cell_type": "code",
   "execution_count": 30,
   "id": "2341f823",
   "metadata": {},
   "outputs": [
    {
     "name": "stdout",
     "output_type": "stream",
     "text": [
      "La solucion del sistema matricial es: \n",
      "[[ 0.95      ]\n",
      " [-0.51426409]\n",
      " [ 0.35781621]\n",
      " [-0.33325499]]\n"
     ]
    }
   ],
   "source": [
    "res = np.dot( m_coeff1, matriz_res)\n",
    "print( 'La solucion del sistema matricial es: \\n' + str(res))"
   ]
  },
  {
   "cell_type": "code",
   "execution_count": 31,
   "id": "698286bf",
   "metadata": {},
   "outputs": [],
   "source": [
    "def fun1(ma):\n",
    "    \n",
    "    return 0.95 + (-0.51426409*ma[0]) + (0.35781621*ma[1]) + (-0.33325499*ma[0]*ma[1])"
   ]
  },
  {
   "cell_type": "code",
   "execution_count": 32,
   "id": "4bf65a9f",
   "metadata": {},
   "outputs": [
    {
     "name": "stdout",
     "output_type": "stream",
     "text": [
      " Para la posicion [0, 0.5] que se desea estimar su temperatura, esta es : 1.128908105\n"
     ]
    }
   ],
   "source": [
    "print(' Para la posicion ' +str([0,0.5]) + ' que se desea estimar su temperatura, esta es : ' + str(fun1([0,0.5])))"
   ]
  },
  {
   "cell_type": "code",
   "execution_count": null,
   "id": "456965a0",
   "metadata": {},
   "outputs": [],
   "source": []
  }
 ],
 "metadata": {
  "kernelspec": {
   "display_name": "Python 3 (ipykernel)",
   "language": "python",
   "name": "python3"
  },
  "language_info": {
   "codemirror_mode": {
    "name": "ipython",
    "version": 3
   },
   "file_extension": ".py",
   "mimetype": "text/x-python",
   "name": "python",
   "nbconvert_exporter": "python",
   "pygments_lexer": "ipython3",
   "version": "3.8.8"
  }
 },
 "nbformat": 4,
 "nbformat_minor": 5
}
