{
  "nbformat": 4,
  "nbformat_minor": 0,
  "metadata": {
    "colab": {
      "provenance": []
    },
    "kernelspec": {
      "name": "python3",
      "display_name": "Python 3"
    },
    "language_info": {
      "name": "python"
    }
  },
  "cells": [
    {
      "cell_type": "code",
      "execution_count": 18,
      "metadata": {
        "colab": {
          "base_uri": "https://localhost:8080/"
        },
        "id": "JFdu8ZHaypfz",
        "outputId": "443a9aa1-f7a1-43fe-8c50-e486c864b01b"
      },
      "outputs": [
        {
          "output_type": "stream",
          "name": "stdout",
          "text": [
            "[-1.84712709e+00 -1.90900000e-06 -1.86000000e-06 -1.83500000e-06\n",
            " -1.81600000e-06 -1.65400000e-06 -1.61900000e-06 -1.61400000e-06\n",
            " -1.56500000e-06 -1.53800000e-06 -1.51300000e-06 -1.50000000e-06\n",
            " -1.48200000e-06 -1.38500000e-06 -1.35100000e-06  1.70200000e-06\n",
            "  1.80460422e-01]\n"
          ]
        }
      ],
      "source": [
        "import numpy as np\n",
        "import matplotlib.pyplot as plt\n",
        "import sympy as sym\n",
        "\n",
        "x = sym.Symbol('x',Real=True)\n",
        "\n",
        "def Funcion(x):\n",
        "    f = 3*(x**5) + 5*(x**4) - (x**3)\n",
        "    return f\n",
        "\n",
        "def Derivada(x):\n",
        "    df = 15*(x**4) + 20*(x**3) - 3*(x**2)\n",
        "    return df\n",
        "\n",
        "\n",
        "xi = np.linspace(-5,5,100)\n",
        "def GetNewtonMethod(f,df,xn, precision=1e-6):\n",
        "    \n",
        "    error = 1\n",
        "    it = 0\n",
        "    \n",
        "    while error > precision:\n",
        "        \n",
        "        try:\n",
        "            \n",
        "            xn1 = xn - f(xn)/df(xn)\n",
        "            \n",
        "\n",
        "            error = np.abs(f(xn)/df(xn))\n",
        "        \n",
        "        except ZeroDivisionError:\n",
        "            print(\"zero division\")\n",
        "            \n",
        "        xn  = xn1\n",
        "        it += 1\n",
        "    \n",
        "    return xn\n",
        "   \n",
        "root = GetNewtonMethod(Funcion,Derivada,1) \n",
        "    \n",
        "def GetAllRoots(f,df,x, tolerancia=9):\n",
        "    \n",
        "    Roots = np.array([])\n",
        "    \n",
        "    for i in x:\n",
        "        \n",
        "        root = GetNewtonMethod(f,df,i)\n",
        "          \n",
        "        if root != False:\n",
        "            \n",
        "            croot = np.round( root, tolerancia ) \n",
        "            \n",
        "            if croot not in Roots:\n",
        "                Roots = np.append( Roots, croot )\n",
        "                \n",
        "\n",
        "    Roots.sort()\n",
        "    return Roots\n",
        "\n",
        "print(GetAllRoots(Funcion,Derivada,xi, tolerancia=9))"
      ]
    },
    {
      "cell_type": "code",
      "source": [
        "x = np.linspace(-10,10,100)\n",
        "y = Funcion(x)\n",
        "plt.plot(x,y)\n",
        "plt.grid()\n"
      ],
      "metadata": {
        "colab": {
          "base_uri": "https://localhost:8080/",
          "height": 265
        },
        "id": "HNWYw5jkzGt_",
        "outputId": "2b9b9faf-7e45-4384-f4aa-7d478532be64"
      },
      "execution_count": 13,
      "outputs": [
        {
          "output_type": "display_data",
          "data": {
            "text/plain": [
              "<Figure size 432x288 with 1 Axes>"
            ],
            "image/png": "[encoded data removed]"
          },
          "metadata": {
            "needs_background": "light"
          }
        }
      ]
    }
  ]
}