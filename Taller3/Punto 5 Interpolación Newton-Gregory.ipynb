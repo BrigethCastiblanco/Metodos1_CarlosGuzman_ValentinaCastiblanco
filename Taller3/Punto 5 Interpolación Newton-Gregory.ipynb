{
 "cells": [
  {
   "cell_type": "code",
   "execution_count": 1,
   "metadata": {},
   "outputs": [],
   "source": [
    "import numpy as np\n",
    "import matplotlib.pyplot as plt\n",
    "from matplotlib import rc\n",
    "import pandas as pd\n",
    "import sympy as sym\n",
    "import os.path as path\n"
   ]
  },
  {
   "cell_type": "code",
   "execution_count": 2,
   "metadata": {},
   "outputs": [],
   "source": [
    "Data = pd.read_csv('Datos2')"
   ]
  },
  {
   "cell_type": "code",
   "execution_count": 3,
   "metadata": {},
   "outputs": [
    {
     "name": "stdout",
     "output_type": "stream",
     "text": [
      "[-18. -13.   0.   5.   3.  10.] [0.  1.5 2.  3.8 4.2 5.9]\n"
     ]
    },
    {
     "data": {
      "text/plain": [
       "array([[-18.,   0.,   0.,   0.,   0.,   0.],\n",
       "       [-13.,   0.,   0.,   0.,   0.,   0.],\n",
       "       [  0.,   0.,   0.,   0.,   0.,   0.],\n",
       "       [  5.,   0.,   0.,   0.,   0.,   0.],\n",
       "       [  3.,   0.,   0.,   0.,   0.,   0.],\n",
       "       [ 10.,   0.,   0.,   0.,   0.,   0.]])"
      ]
     },
     "execution_count": 3,
     "metadata": {},
     "output_type": "execute_result"
    }
   ],
   "source": [
    "X = np.float64(Data['X'])\n",
    "Y = np.float64(Data['Y'])\n",
    "print(Y, X)\n",
    "Diff = np.zeros((len(X),len(Y)))\n",
    "Diff[:,0] = Y\n",
    "Diff"
   ]
  },
  {
   "cell_type": "code",
   "execution_count": 4,
   "metadata": {},
   "outputs": [
    {
     "data": {
      "text/plain": [
       "array([[-18.,   0.,   0.,   0.,   0.,   0.],\n",
       "       [-13.,   5.,   0.,   0.,   0.,   0.],\n",
       "       [  0.,  13.,   8.,   0.,   0.,   0.],\n",
       "       [  5.,   5.,  -8., -16.,   0.,   0.],\n",
       "       [  3.,  -2.,  -7.,   1.,  17.,   0.],\n",
       "       [ 10.,   7.,   9.,  16.,  15.,  -2.]])"
      ]
     },
     "execution_count": 4,
     "metadata": {},
     "output_type": "execute_result"
    }
   ],
   "source": [
    "Diff = np.zeros((len(X),len(Y)))\n",
    "Diff[:,0] = Y\n",
    "\n",
    "for i in range(1,len(X)):\n",
    "    for j in range(i,len(Y)):\n",
    "        Diff[j,i] = Diff[j,i-1]-Diff[j-1,i-1]\n",
    "\n",
    "Diff"
   ]
  },
  {
   "cell_type": "code",
   "execution_count": 5,
   "metadata": {},
   "outputs": [],
   "source": [
    "def NewtonGregory(X,Y,x):\n",
    "    \n",
    "    Sum_ = Y[0]\n",
    "    \n",
    "    Diff = np.zeros((len(X),len(Y)))\n",
    "    Diff[:,0] = Y\n",
    "\n",
    "    \n",
    "            \n",
    "    poly = 1.0\n",
    "    \n",
    "    for i in range(1,len(X)):\n",
    "        \n",
    "        poly *= ( x - X[i-1] )\n",
    "        \n",
    "        \n",
    "        \n",
    "        for j in range(i, len(X)):\n",
    "            \n",
    "        \n",
    "        \n",
    "            Diff[j,i] = (Diff[j,i-1]-Diff[j-1,i-1])/(X[j] - X[j-i])\n",
    "            \n",
    "        Sum_ += poly*(Diff[i,i])\n",
    "    \n",
    "    return Sum_,np.round(Diff,2)"
   ]
  },
  {
   "cell_type": "code",
   "execution_count": 6,
   "metadata": {},
   "outputs": [],
   "source": [
    "x = np.linspace(np.min(X),np.max(X),400)\n",
    "\n",
    "y,_ = NewtonGregory(X,Y,x)"
   ]
  },
  {
   "cell_type": "code",
   "execution_count": 7,
   "metadata": {},
   "outputs": [
    {
     "data": {
      "text/plain": [
       "[<matplotlib.lines.Line2D at 0x7fbfb9bffef0>]"
      ]
     },
     "execution_count": 7,
     "metadata": {},
     "output_type": "execute_result"
    },
    {
     "data": {
      "image/png": "[encoded data removed]",
      "text/plain": [
       "<Figure size 432x288 with 1 Axes>"
      ]
     },
     "metadata": {},
     "output_type": "display_data"
    }
   ],
   "source": [
    "plt.scatter(X,Y,color='r')\n",
    "plt.plot(x,y)"
   ]
  },
  {
   "cell_type": "code",
   "execution_count": null,
   "metadata": {},
   "outputs": [],
   "source": []
  },
  {
   "cell_type": "code",
   "execution_count": null,
   "metadata": {},
   "outputs": [],
   "source": []
  },
  {
   "cell_type": "code",
   "execution_count": null,
   "metadata": {},
   "outputs": [],
   "source": []
  },
  {
   "cell_type": "code",
   "execution_count": null,
   "metadata": {},
   "outputs": [],
   "source": []
  },
  {
   "cell_type": "code",
   "execution_count": null,
   "metadata": {},
   "outputs": [],
   "source": []
  },
  {
   "cell_type": "code",
   "execution_count": null,
   "metadata": {},
   "outputs": [],
   "source": []
  },
  {
   "cell_type": "code",
   "execution_count": null,
   "metadata": {},
   "outputs": [],
   "source": []
  },
  {
   "cell_type": "code",
   "execution_count": null,
   "metadata": {},
   "outputs": [],
   "source": []
  }
 ],
 "metadata": {
  "kernelspec": {
   "display_name": "Python 3",
   "language": "python",
   "name": "python3"
  },
  "language_info": {
   "codemirror_mode": {
    "name": "ipython",
    "version": 3
   },
   "file_extension": ".py",
   "mimetype": "text/x-python",
   "name": "python",
   "nbconvert_exporter": "python",
   "pygments_lexer": "ipython3",
   "version": "3.6.5"
  }
 },
 "nbformat": 4,
 "nbformat_minor": 2
}
