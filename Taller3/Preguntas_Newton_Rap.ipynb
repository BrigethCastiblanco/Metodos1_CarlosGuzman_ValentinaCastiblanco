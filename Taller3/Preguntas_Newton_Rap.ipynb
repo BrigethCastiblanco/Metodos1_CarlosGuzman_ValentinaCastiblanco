{
  "nbformat": 4,
  "nbformat_minor": 0,
  "metadata": {
    "colab": {
      "provenance": []
    },
    "kernelspec": {
      "name": "python3",
      "display_name": "Python 3"
    },
    "language_info": {
      "name": "python"
    }
  },
  "cells": [
    {
      "cell_type": "code",
      "execution_count": null,
      "metadata": {
        "id": "PibhCkKI7PYv"
      },
      "outputs": [],
      "source": []
    },
    {
      "cell_type": "markdown",
      "source": [
        "**Raices de polinomios**\n",
        "\n",
        "\n",
        "\n",
        "**1.**   El error asociado para el metodo de raices de Newton-Raphson es de $1⋅10^{-6}$\n",
        "\n",
        "**2.**   Para que halla mas presicion en el metodo de Newton-Raphson el paso dado en el *linspace* debe ser grande, ya que al tener intervalos de paso mas grandes, las aproximaciones seran mas precisas.\n",
        "\n"
      ],
      "metadata": {
        "id": "5OA2dDIaBYwT"
      }
    }
  ]
}