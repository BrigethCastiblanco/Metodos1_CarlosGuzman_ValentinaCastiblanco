{
 "cells": [
  {
   "cell_type": "code",
   "execution_count": 3,
   "id": "d9a67e56",
   "metadata": {},
   "outputs": [],
   "source": [
    "import numpy as np"
   ]
  },
  {
   "cell_type": "code",
   "execution_count": 49,
   "id": "cf10acb0",
   "metadata": {},
   "outputs": [],
   "source": [
    "def monedas_prob(n):\n",
    "    \n",
    "    N = 0\n",
    "    \n",
    "    c = 1\n",
    "    s = -1\n",
    "\n",
    "    Moneda = [c,s]\n",
    "    \n",
    "    for i in range(int(n)):\n",
    "        m1 = np.random.choice(Moneda)\n",
    "        m2 = np.random.choice(Moneda)\n",
    "        m3 = np.random.choice(Moneda)\n",
    "        m4 = np.random.choice(Moneda)\n",
    "        l = (m1,m2,m3,m4)\n",
    "        d = l.count(1)\n",
    "        if d == 2:\n",
    "            \n",
    "            N += 1\n",
    "    \n",
    "    return N/n"
   ]
  },
  {
   "cell_type": "code",
   "execution_count": 50,
   "id": "b14d6fdf",
   "metadata": {},
   "outputs": [
    {
     "data": {
      "text/plain": [
       "0.37523"
      ]
     },
     "execution_count": 50,
     "metadata": {},
     "output_type": "execute_result"
    }
   ],
   "source": [
    "monedas_prob(100000)"
   ]
  },
  {
   "cell_type": "code",
   "execution_count": 19,
   "id": "cb8380ed",
   "metadata": {},
   "outputs": [
    {
     "data": {
      "text/plain": [
       "0.375"
      ]
     },
     "execution_count": 19,
     "metadata": {},
     "output_type": "execute_result"
    }
   ],
   "source": [
    "3/8"
   ]
  },
  {
   "cell_type": "code",
   "execution_count": null,
   "id": "d289d159",
   "metadata": {},
   "outputs": [],
   "source": []
  }
 ],
 "metadata": {
  "kernelspec": {
   "display_name": "Python 3 (ipykernel)",
   "language": "python",
   "name": "python3"
  },
  "language_info": {
   "codemirror_mode": {
    "name": "ipython",
    "version": 3
   },
   "file_extension": ".py",
   "mimetype": "text/x-python",
   "name": "python",
   "nbconvert_exporter": "python",
   "pygments_lexer": "ipython3",
   "version": "3.9.12"
  }
 },
 "nbformat": 4,
 "nbformat_minor": 5
}
