{
  "cells": [
    {
      "cell_type": "code",
      "execution_count": null,
      "metadata": {
        "colab": {
          "base_uri": "https://localhost:8080/",
          "height": 97
        },
        "id": "-zwb16vCjVOL",
        "outputId": "c6d0397a-d9f1-49f3-bd6c-994a662fb770"
      },
      "outputs": [
        {
          "output_type": "execute_result",
          "data": {
            "text/plain": [
              "a*(-b + x)*(-m1 + x)*(-m2 + x)/((a - b)*(a - m1)*(a - m2)) + b*(-a + x)*(-m1 + x)*(-m2 + x)/((-a + b)*(b - m1)*(b - m2)) + m1*(-a + x)*(-b + x)*(-m2 + x)/((-a + m1)*(-b + m1)*(m1 - m2)) + m2*(-a + x)*(-b + x)*(-m1 + x)/((-a + m2)*(-b + m2)*(-m1 + m2))"
            ],
            "text/latex": "$\\displaystyle \\frac{a \\left(- b + x\\right) \\left(- m_{1} + x\\right) \\left(- m_{2} + x\\right)}{\\left(a - b\\right) \\left(a - m_{1}\\right) \\left(a - m_{2}\\right)} + \\frac{b \\left(- a + x\\right) \\left(- m_{1} + x\\right) \\left(- m_{2} + x\\right)}{\\left(- a + b\\right) \\left(b - m_{1}\\right) \\left(b - m_{2}\\right)} + \\frac{m_{1} \\left(- a + x\\right) \\left(- b + x\\right) \\left(- m_{2} + x\\right)}{\\left(- a + m_{1}\\right) \\left(- b + m_{1}\\right) \\left(m_{1} - m_{2}\\right)} + \\frac{m_{2} \\left(- a + x\\right) \\left(- b + x\\right) \\left(- m_{1} + x\\right)}{\\left(- a + m_{2}\\right) \\left(- b + m_{2}\\right) \\left(- m_{1} + m_{2}\\right)}$"
          },
          "metadata": {},
          "execution_count": 1
        }
      ],
      "source": [
        "import numpy as np\n",
        "import sympy as sym\n",
        "\n",
        "x = sym.Symbol('x',Real=True)\n",
        "a = sym.Symbol('a',Real=True)\n",
        "m1 = sym.Symbol('m1',Real=True)\n",
        "m2 = sym.Symbol('m2',Real=True)\n",
        "b = sym.Symbol('b',Real=True)\n",
        "\n",
        "\n",
        "xi = [a,m1,m2,b]\n",
        "\n",
        "z=xi.copy()\n",
        "for i in z:\n",
        "  xi.append(i)\n",
        "\n",
        "l = []\n",
        "for i in range(4):\n",
        "    if i == 0:\n",
        "      num = ((x-xi[i+1])*(x-xi[i+2])*(x-xi[i+3]))\n",
        "      den = ((xi[i]-xi[i+1])*(xi[i]-xi[i+2])*(xi[i]-xi[i+3]))\n",
        "      nd= num/den\n",
        "      l.append(nd)\n",
        "    else:\n",
        "     num = ((x - xi[i-1])*(x - xi[i+1])*(x - xi[i+2]))\n",
        "     den = ((xi[i]-xi[i-1])*(xi[i]-xi[i+1])*(xi[i]-xi[i+2]))\n",
        "     nd= num/den\n",
        "     l.append(nd)\n",
        "\n",
        "p = 0\n",
        "\n",
        "for i in range(4):\n",
        "  u = l[i] * xi[i]\n",
        "  p = p+u\n",
        "\n",
        "p"
      ]
    },
    {
      "cell_type": "code",
      "source": [
        "import numpy as np\n",
        "import sympy as sym\n",
        "\n",
        "x = sym.Symbol('x',Real=True)\n",
        "h = sym.Symbol('h',Real=True)\n",
        "a = sym.Symbol('a',Real=True)\n",
        "m1 = sym.Symbol('m1',Real=True)\n",
        "m2 = sym.Symbol('m2',Real=True)\n",
        "b = sym.Symbol('b',Real=True)\n",
        "\n",
        "xi = [a,m1,m2,b] #Puntos de la discretizacion de las coordenadas\n",
        "hi = [0,h,2*h,3*h] #Puntos de la discretizacion en trminos de h\n",
        "\n",
        "z=hi.copy()\n",
        "for i in hi:\n",
        "  z.append(i)\n",
        "\n",
        "#Funciones 'L' de la discretizacion\n",
        "l = []\n",
        "for i in range(0,4):\n",
        "    if i == 0:\n",
        "      num = ((x-z[i+1])*(x-z[i+2])*(x-z[i+3]))\n",
        "      den = ((z[i]-z[i+1])*(z[i]-z[i+2])*(z[i]-z[i+3]))\n",
        "      nd = num/den\n",
        "      l.append(nd)\n",
        "    else:\n",
        "      num = ((x - z[i-1])*(x - z[i+1])*(x - z[i+2]))\n",
        "      den = ((z[i]-z[i-1])*(z[i]-z[i+1])*(z[i]-z[i+2]))\n",
        "      nd= num/den\n",
        "      l.append(nd)\n",
        "#print(l)\n",
        "\n",
        "# polinomio\n",
        "p=0\n",
        "for i in range(4):\n",
        "  u = l[i]*hi[i]\n",
        "  p = p+u\n",
        "print(p)"
      ],
      "metadata": {
        "colab": {
          "base_uri": "https://localhost:8080/"
        },
        "id": "SPuoZHTYpZwx",
        "outputId": "7842bb52-83fa-4b0c-8404-5c7e97086d79"
      },
      "execution_count": null,
      "outputs": [
        {
          "output_type": "stream",
          "name": "stdout",
          "text": [
            "[-(-3*h + x)*(-2*h + x)*(-h + x)/(6*h**3), x*(-3*h + x)*(-2*h + x)/(2*h**3), -x*(-3*h + x)*(-h + x)/(2*h**3), x*(-2*h + x)*(-h + x)/(6*h**3)]\n",
            "x*(-3*h + x)*(-2*h + x)/(2*h**2) - x*(-3*h + x)*(-h + x)/h**2 + x*(-2*h + x)*(-h + x)/(2*h**2)\n"
          ]
        }
      ]
    },
    {
      "cell_type": "markdown",
      "source": [],
      "metadata": {
        "id": "3Kgqr5U7rO7Z"
      }
    },
    {
      "cell_type": "code",
      "execution_count": null,
      "metadata": {
        "colab": {
          "base_uri": "https://localhost:8080/"
        },
        "id": "_SJ_gCWzkmcc",
        "outputId": "83c3c38c-4ba8-4f78-fc2d-84a9339fcfc0"
      },
      "outputs": [
        {
          "output_type": "stream",
          "name": "stdout",
          "text": [
            "[-(t - 3)*(t - 2)*(t - 1)/6, t*(t - 3)*(t - 2)/2, -t*(t - 3)*(t - 1)/2, t*(t - 2)*(t - 1)/6]\n"
          ]
        }
      ],
      "source": [
        "#Terminos de la aproximacion en terminos de h\n",
        "#h = (b-a)/3\n",
        "#x=xi+th\n",
        "#x-xi=th--->t es la cantidad de terminos lt\n",
        "numh = []\n",
        "t = sym.Symbol('t',Real=True)\n",
        "for i in range(len(hi)):\n",
        "  th=h*(t-i)\n",
        "  numh.append(th)\n",
        "\n",
        "q=numh.copy()\n",
        "for i in q:\n",
        "  numh.append(i)\n",
        "\n",
        "d0=(-h)*(-2*h)*(-3*h)\n",
        "d1 =(h)*(-h)*(-2*h)\n",
        "d2=(2*h)*(h)*(-h)\n",
        "d3 =(3*h)*(2*h)*(h)\n",
        "\n",
        "denh = np.array([d0,d1,d2,d3])\n",
        "\n",
        "lth = []\n",
        "for i in range(4):\n",
        "    if i == 0:\n",
        "      pp = (numh[i+1]*numh[i+2]*numh[i+3])/denh[i]\n",
        "      lth.append(pp)\n",
        "    else:\n",
        "      pp = ((numh[i-1])*(numh[i+1])*(numh[i+2]))/denh[i]\n",
        "      lth.append(pp)\n",
        "\n",
        "print(lth)"
      ]
    },
    {
      "cell_type": "markdown",
      "source": [
        "Puntos de integracion\n",
        "\n",
        "$a=a+t\\cdot h$ \\\\\n",
        "\n",
        "$0=t\\cdot h$\n",
        "\n",
        "$0=t$\n",
        "\n",
        "\\\\\n",
        "\n",
        "$m2=a+t\\cdot h$ \\\\\n",
        "\n",
        "$m2-a=t\\cdot h$\n",
        "\n",
        "$3 \\cdot h =t\\cdot h$\n",
        "\n",
        "$3=t$\n",
        "\n",
        "$(0,1)$\n",
        "\n",
        "$P(x) = f(a)\\displaystyle\\int_{0}^{3} L_{0}(x) \\cdot dx+ f(m1)\\displaystyle\\int_{0}^{3} L_{1}(x) \\cdot dx + f(m2)\\displaystyle\\int_{0}^{3} L_{2}(x) \\cdot dx + f(b)\\displaystyle\\int_{0}^{3} L_{3}(x) \\cdot dx$\n",
        "\n",
        "$\\displaystyle\\frac{dx}{dt} = h$ Es el paso entre divisiones\n",
        "\n",
        "$dx=h \\cdot dt$\n",
        "\n",
        "$P(x) = f(a)\\displaystyle\\int_{0}^{3} L_{0}(t) \\cdot h \\cdot dt+ f(m1)\\displaystyle\\int_{0}^{3} L_{1}(t) \\cdot h \\cdot dt + f(m2)\\displaystyle\\int_{0}^{3} L_{2}(t) \\cdot h \\cdot dt + f(b)\\displaystyle\\int_{0}^{3} L_{3}(t) \\cdot h \\cdot dt$\n"
      ],
      "metadata": {
        "id": "uRxzvCF73gKc"
      }
    },
    {
      "cell_type": "code",
      "source": [
        "from fractions import Fraction\n",
        "# integrales de cada termino\n",
        "r = np.linspace(-6,6,4)\n",
        "\n",
        "ti=[] #terminos a integrar sin h y dt porque son constantes igual que su denominador\n",
        "for i in range(4):\n",
        "  terint=lth[i]*r[i]\n",
        "  ti.append(terint)\n",
        "\n",
        "ti"
      ],
      "metadata": {
        "colab": {
          "base_uri": "https://localhost:8080/"
        },
        "id": "3_tgj0xpo-bd",
        "outputId": "60515ac4-ba59-4081-b770-b9651bf8af49"
      },
      "execution_count": null,
      "outputs": [
        {
          "output_type": "execute_result",
          "data": {
            "text/plain": [
              "[1.0*(t - 3)*(t - 2)*(t - 1),\n",
              " -1.0*t*(t - 3)*(t - 2),\n",
              " -1.0*t*(t - 3)*(t - 1),\n",
              " 1.0*t*(t - 2)*(t - 1)]"
            ]
          },
          "metadata": {},
          "execution_count": 42
        }
      ]
    },
    {
      "cell_type": "code",
      "source": [
        "\n",
        "fr=1/r\n",
        "\n",
        "s=[]\n",
        "for i in ti:\n",
        "  y = sym.integrate(i,(t,0,3))\n",
        "  s.append(Fraction.from_float(float(y)))\n",
        "\n",
        "pol = []\n",
        "for i in range(4):\n",
        "  m = fr[i]*s[i]*h*xi[i]\n",
        "  pol.append(m) \n",
        "\n",
        "suma = 0\n",
        "for i in pol:\n",
        "  suma += i\n",
        "\n",
        "#Factorizacion\n",
        "\n",
        "fac=sym.simplify(suma)\n",
        "fac"
      ],
      "metadata": {
        "colab": {
          "base_uri": "https://localhost:8080/",
          "height": 39
        },
        "id": "NH_IenM-4HLd",
        "outputId": "d585dbcd-e700-4a30-ce94-6fe54a5efcde"
      },
      "execution_count": null,
      "outputs": [
        {
          "output_type": "execute_result",
          "data": {
            "text/plain": [
              "h*(0.375*a + 0.375*b + 1.125*m1 + 1.125*m2)"
            ],
            "text/latex": "$\\displaystyle h \\left(0.375 a + 0.375 b + 1.125 m_{1} + 1.125 m_{2}\\right)$"
          },
          "metadata": {},
          "execution_count": 43
        }
      ]
    },
    {
      "cell_type": "code",
      "source": [
        "#Factorizando 0,375 del resultado anterior\n",
        "fac = sym.simplify(suma/0.375)\n",
        "fac=0.375*fac\n",
        "fac"
      ],
      "metadata": {
        "colab": {
          "base_uri": "https://localhost:8080/",
          "height": 39
        },
        "id": "oobnqzQunToT",
        "outputId": "884b18b0-eae9-46f4-91c6-b810cba62b79"
      },
      "execution_count": null,
      "outputs": [
        {
          "output_type": "execute_result",
          "data": {
            "text/plain": [
              "0.375*h*(1.0*a + 1.0*b + 3.0*m1 + 3.0*m2)"
            ],
            "text/latex": "$\\displaystyle 0.375 h \\left(1.0 a + 1.0 b + 3.0 m_{1} + 3.0 m_{2}\\right)$"
          },
          "metadata": {},
          "execution_count": 81
        }
      ]
    },
    {
      "cell_type": "code",
      "source": [
        "\n",
        "m1 = (2*a+b)/3\n",
        "m2 = (a+2*b)/3\n",
        "\n",
        "fac"
      ],
      "metadata": {
        "colab": {
          "base_uri": "https://localhost:8080/",
          "height": 39
        },
        "id": "_PhvgVmkrXWq",
        "outputId": "6bc21e92-8242-4606-dd79-f6ab37f61e76"
      },
      "execution_count": null,
      "outputs": [
        {
          "output_type": "execute_result",
          "data": {
            "text/plain": [
              "0.375*h*(1.0*a + 1.0*b + 3.0*m1 + 3.0*m2)"
            ],
            "text/latex": "$\\displaystyle 0.375 h \\left(1.0 a + 1.0 b + 3.0 m_{1} + 3.0 m_{2}\\right)$"
          },
          "metadata": {},
          "execution_count": 82
        }
      ]
    },
    {
      "cell_type": "markdown",
      "source": [
        "Donde $a$ hace referencia a $f(a)$, $b$ hace referencia a $f(b)$, $m1$ hace referencia a $f(m_1)=f(\\frac{2a+b}{3})$ y $m_2$ hace referencia a $f(m_2)=f(\\frac{a+2b}{3})$"
      ],
      "metadata": {
        "id": "qVik57jfpdzY"
      }
    }
  ],
  "metadata": {
    "colab": {
      "provenance": [],
      "collapsed_sections": []
    },
    "kernelspec": {
      "display_name": "Python 3",
      "name": "python3"
    },
    "language_info": {
      "name": "python"
    }
  },
  "nbformat": 4,
  "nbformat_minor": 0
}