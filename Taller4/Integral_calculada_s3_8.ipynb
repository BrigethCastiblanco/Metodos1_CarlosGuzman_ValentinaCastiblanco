{
  "nbformat": 4,
  "nbformat_minor": 0,
  "metadata": {
    "colab": {
      "provenance": [],
      "collapsed_sections": []
    },
    "kernelspec": {
      "name": "python3",
      "display_name": "Python 3"
    },
    "language_info": {
      "name": "python"
    }
  },
  "cells": [
    {
      "cell_type": "code",
      "execution_count": null,
      "metadata": {
        "colab": {
          "base_uri": "https://localhost:8080/"
        },
        "id": "75pMHocB7c5B",
        "outputId": "0c75c875-7fa1-424d-f50b-9c090fef299c"
      },
      "outputs": [
        {
          "output_type": "stream",
          "name": "stdout",
          "text": [
            "2.64957932990768\n"
          ]
        }
      ],
      "source": [
        "import sympy as sym\n",
        "\n",
        "x = sym.Symbol('x',Real=True)\n",
        "\n",
        "def funcion(x):\n",
        "  f = sym.sqrt(1+sym.exp(-x**2))\n",
        "  return f\n",
        "\n",
        "#print(funcion(x))\n",
        "\n",
        "limite_a = -1\n",
        "\n",
        "limite_b = 1\n",
        "\n",
        "n = 3\n",
        "\n",
        "h = (limite_b - limite_a)*1/n\n",
        "\n",
        "x0 = limite_a\n",
        "x1 = ((n-1)*limite_a+limite_b)/n\n",
        "x2 = (limite_a+(n-1)*limite_b)/n\n",
        "x3 = limite_b\n",
        "\n",
        "xi=np.array([x0,x1,x2,x3])\n",
        "\n",
        "fxi = []\n",
        "for i in xi:\n",
        "  valor = funcion(i)\n",
        "  fxi.append(valor)\n",
        "\n",
        "def formula_simpson38(fxi,h):\n",
        "    simpson_aprox = 3/8*h*(fxi[0]+3*fxi[1]+3*fxi[2]+fxi[3])\n",
        "    return simpson_aprox\n",
        "\n",
        "print(formula_simpson38(fxi,h))"
      ]
    }
  ]
}