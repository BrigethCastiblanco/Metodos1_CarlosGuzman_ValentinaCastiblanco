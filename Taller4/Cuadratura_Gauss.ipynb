{
  "nbformat": 4,
  "nbformat_minor": 0,
  "metadata": {
    "colab": {
      "provenance": [],
      "collapsed_sections": []
    },
    "kernelspec": {
      "name": "python3",
      "display_name": "Python 3"
    },
    "language_info": {
      "name": "python"
    }
  },
  "cells": [
    {
      "cell_type": "code",
      "execution_count": null,
      "metadata": {
        "colab": {
          "base_uri": "https://localhost:8080/"
        },
        "id": "HTC1H_C9oVZH",
        "outputId": "25cda5f7-2073-4a05-ecfc-442f10c42f01"
      },
      "outputs": [
        {
          "output_type": "stream",
          "name": "stdout",
          "text": [
            "[-0.9931286  -0.96397193 -0.91223443 -0.83911697 -0.74633191 -0.63605368\n",
            " -0.510867   -0.37370609 -0.22778585 -0.07652652  0.07652652  0.22778585\n",
            "  0.37370609  0.510867    0.63605368  0.74633191  0.83911697  0.91223443\n",
            "  0.96397193  0.9931286 ]\n"
          ]
        }
      ],
      "source": [
        "import numpy as np\n",
        "import matplotlib.pyplot as plt\n",
        "import sympy as sym\n",
        "\n",
        "def GetNewtonMethod(f,df,xn,itmax = 100000, precision=1e-12):\n",
        "    \n",
        "    error = 1.\n",
        "    it = 0\n",
        "    \n",
        "    while error > precision and it < itmax:\n",
        "        \n",
        "        try:\n",
        "            \n",
        "            xn1 = xn - f(xn)/df(xn)\n",
        "            \n",
        "           # error = np.abs( (xn1-xn) )\n",
        "            error = np.abs(f(xn)/df(xn))\n",
        "        \n",
        "        except ZeroDivisionError:\n",
        "            print(\"zero division\")\n",
        "            \n",
        "        xn  = xn1\n",
        "        it += 1\n",
        "    \n",
        "    if it == itmax:\n",
        "        return False\n",
        "    else:\n",
        "        return xn\n",
        "\n",
        "def GetAllRoots(f,df,x, tolerancia=9):\n",
        "    \n",
        "    Roots = np.array([])\n",
        "    \n",
        "    for i in x:\n",
        "        \n",
        "        root = GetNewtonMethod(f,df,i)\n",
        "          \n",
        "        if root != False:\n",
        "            \n",
        "            croot = np.round( root, tolerancia ) \n",
        "            \n",
        "            if croot not in Roots:\n",
        "                Roots = np.append( Roots, croot )\n",
        "                \n",
        "    Roots.sort()\n",
        "    \n",
        "    return Roots\n",
        "\n",
        "def GetLegendre(n):\n",
        "    \n",
        "    x = sym.Symbol('x',Real=True)\n",
        "    y = sym.Symbol('y',Real=True)\n",
        "    \n",
        "    y = (x**2 - 1)**n\n",
        "    \n",
        "    p = sym.diff(y,x,n)/(2**n * np.math.factorial(n))\n",
        "    \n",
        "    return p\n",
        "\n",
        "Legendre = []\n",
        "DerLegendre = []\n",
        "\n",
        "x = sym.Symbol('x',Real=True)\n",
        "n=20\n",
        "\n",
        "for i in range(n+1):\n",
        "    \n",
        "    poly = GetLegendre(i)\n",
        "    \n",
        "    Legendre.append(poly)\n",
        "    DerLegendre.append(sym.diff(poly,x,1))\n",
        "\n",
        "def GetRootsPolynomial(n,xi,poly,dpoly):\n",
        "    \n",
        "    x = sym.Symbol('x',Real=True)\n",
        "    \n",
        "    pn = sym.lambdify([x],poly[n],'numpy')\n",
        "    dpn = sym.lambdify([x],dpoly[n],'numpy')\n",
        "    Roots = GetAllRoots(pn,dpn,xi,tolerancia=8)\n",
        "    \n",
        "    return Roots\n",
        "\n",
        "xi = np.linspace(-1,1,100)\n",
        "n = 20\n",
        "Roots = GetRootsPolynomial(n,xi,Legendre,DerLegendre)\n",
        "\n",
        "print(Roots)"
      ]
    },
    {
      "cell_type": "code",
      "source": [
        "def GetWeights(Roots,Dpoly):\n",
        "    \n",
        "    Weights = []\n",
        "    x = sym.Symbol('x',Real=True)\n",
        "    dpn = sym.lambdify([x],Dpoly[n],'numpy')\n",
        "    \n",
        "    for r in Roots:\n",
        "        \n",
        "        Weights.append( 2/(( 1- r**2 )*dpn(r)**2) )\n",
        "        \n",
        "    return Weights\n",
        "\n",
        "Weights = GetWeights(Roots,DerLegendre)\n",
        "print(Weights)"
      ],
      "metadata": {
        "colab": {
          "base_uri": "https://localhost:8080/"
        },
        "id": "_zF9ZUWdo46s",
        "outputId": "518280af-8911-4785-9b52-790d5634b067"
      },
      "execution_count": null,
      "outputs": [
        {
          "output_type": "stream",
          "name": "stdout",
          "text": [
            "[0.017614005057443156, 0.040601426789038504, 0.06267204714271987, 0.08327674243741208, 0.10193011860145561, 0.11819453214497368, 0.1316886388043622, 0.14209610915980517, 0.1491729865544351, 0.1527533871573824, 0.1527533871573824, 0.1491729865544351, 0.14209610915980517, 0.1316886388043622, 0.11819453214497368, 0.10193011860145561, 0.08327674243741208, 0.06267204714271987, 0.040601426789038504, 0.017614005057443156]\n"
          ]
        }
      ]
    }
  ]
}