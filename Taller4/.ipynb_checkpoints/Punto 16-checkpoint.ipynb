{
 "cells": [
  {
   "cell_type": "code",
   "execution_count": 54,
   "id": "a8412de5",
   "metadata": {},
   "outputs": [],
   "source": [
    "import numpy as np\n",
    "import matplotlib.pyplot as plt\n",
    "import sympy as sym\n",
    "from math import exp\n"
   ]
  },
  {
   "cell_type": "code",
   "execution_count": 32,
   "id": "e73ced4b",
   "metadata": {},
   "outputs": [],
   "source": [
    "def GetLaguerre(n):\n",
    "    x = sym.Symbol('x', Real=True)\n",
    "    y = sym.Symbol('y',Real=True)\n",
    "    y = (x**n * sym.exp(-x))\n",
    "    \n",
    "    p= (sym.exp(x) * sym.diff(y,x,n))/np.math.factorial(n)\n",
    "    return p"
   ]
  },
  {
   "cell_type": "code",
   "execution_count": 48,
   "id": "64d14d85",
   "metadata": {},
   "outputs": [],
   "source": [
    "Laguerre = []\n",
    "DerLaguerre = []\n",
    "n=20\n",
    "\n",
    "\n",
    "for i in range(n+1):\n",
    "    p = GetLaguerre(i).expand()\n",
    "    dp = sym.diff(p,x,1)\n",
    "    \n",
    "    Laguerre.append(poly)\n",
    "    DerLaguerre.append(dp)\n"
   ]
  },
  {
   "cell_type": "code",
   "execution_count": 49,
   "id": "f93c18fd",
   "metadata": {},
   "outputs": [],
   "source": [
    "def GetNewtonMethod(f,df,xn,itmax = 100000, precision=1e-12):\n",
    "    \n",
    "    error = 1.\n",
    "    it = 0\n",
    "    \n",
    "    while error > precision and it < itmax:\n",
    "        \n",
    "        try:\n",
    "            \n",
    "            xn1 = xn - f(xn)/df(xn)\n",
    "            \n",
    "           # error = np.abs( (xn1-xn) )\n",
    "            error = np.abs(f(xn)/df(xn))\n",
    "        \n",
    "        except ZeroDivisionError:\n",
    "            print(\"zero division\")\n",
    "            \n",
    "        xn  = xn1\n",
    "        it += 1\n",
    "    \n",
    "    #print('Raiz:',xn,it)\n",
    "    \n",
    "    if it == itmax:\n",
    "        return False\n",
    "    else:\n",
    "        return xn\n",
    "def GetAllRoots(f,df,x, tolerancia=9):\n",
    "    \n",
    "    Roots = np.array([])\n",
    "    \n",
    "    for i in x:\n",
    "        \n",
    "        root = GetNewtonMethod(f,df,i)\n",
    "          \n",
    "        if root != False:\n",
    "            \n",
    "            croot = np.round( root, tolerancia ) \n",
    "            \n",
    "            if croot not in Roots:\n",
    "                Roots = np.append( Roots, croot )\n",
    "                \n",
    "    # Ordenamos las raices\n",
    "    Roots.sort()\n",
    "    \n",
    "    return Roots"
   ]
  },
  {
   "cell_type": "code",
   "execution_count": 50,
   "id": "ec8625a8",
   "metadata": {},
   "outputs": [],
   "source": [
    "def GetRootsPolynomial(n,xi,poly,dpoly):\n",
    "    \n",
    "    x = sym.Symbol('x',Real=True)\n",
    "    \n",
    "    pn = sym.lambdify([x],poly[n],'numpy')\n",
    "    dpn = sym.lambdify([x],dpoly[n],'numpy')\n",
    "    Roots = GetAllRoots(pn,dpn,xi,tolerancia=8)\n",
    "    \n",
    "    return Roots"
   ]
  },
  {
   "cell_type": "code",
   "execution_count": null,
   "id": "ec2caf9c",
   "metadata": {},
   "outputs": [],
   "source": [
    "n=3"
   ]
  },
  {
   "cell_type": "code",
   "execution_count": 69,
   "id": "7d5126f3",
   "metadata": {},
   "outputs": [],
   "source": [
    "from sympy import *\n",
    "def lag_weights_roots(n):\n",
    "    x = Symbol(\"x\")\n",
    "    roots = Poly(laguerre(n, x)).all_roots()\n",
    "    x_i = [rt.evalf(20) for rt in roots]\n",
    "    w_i = [(rt / ((n + 1) * laguerre(n + 1, rt)) ** 2).evalf(20) for rt in roots]\n",
    "    return x_i, w_i"
   ]
  },
  {
   "cell_type": "code",
   "execution_count": 110,
   "id": "a9fd8576",
   "metadata": {},
   "outputs": [],
   "source": [
    "var=lag_weights_roots(3)\n"
   ]
  },
  {
   "cell_type": "code",
   "execution_count": 106,
   "id": "4a2505e8",
   "metadata": {},
   "outputs": [],
   "source": [
    "def funcion(x):\n",
    "    return (x**3)/ exp(x)-1\n",
    "val=[]\n",
    "rt=var[0]\n",
    "for i in range(len(var[0])):\n",
    "               \n",
    "    l=funcion(rt[i])\n",
    "    \n",
    "    val.append(l)"
   ]
  },
  {
   "cell_type": "code",
   "execution_count": 107,
   "id": "01e09230",
   "metadata": {},
   "outputs": [],
   "source": [
    "def integral(var,val):\n",
    "    w=var[1]\n",
    "    res=0\n",
    "    for i in range(len(var[0])):\n",
    "        \n",
    "        res += w[i]*val[i]\n",
    "    return res\n",
    "    "
   ]
  },
  {
   "cell_type": "code",
   "execution_count": 108,
   "id": "7f661ce5",
   "metadata": {},
   "outputs": [
    {
     "data": {
      "text/latex": [
       "$\\displaystyle 6.2232543847024489945$"
      ],
      "text/plain": [
       "6.2232543847024489945"
      ]
     },
     "execution_count": 108,
     "metadata": {},
     "output_type": "execute_result"
    }
   ],
   "source": [
    "res=integral(var,val)*-10\n",
    "res"
   ]
  },
  {
   "cell_type": "code",
   "execution_count": 127,
   "id": "10542978",
   "metadata": {},
   "outputs": [
    {
     "data": {
      "text/plain": [
       "[-0.95257524105613807565, 0.21771641920173244194, -0.53841454002520760325]"
      ]
     },
     "execution_count": 127,
     "metadata": {},
     "output_type": "execute_result"
    }
   ],
   "source": [
    "var2=lag_weights_roots(2)\n",
    "var3=lag_weights_roots(3)\n",
    "var4=lag_weights_roots(4)\n",
    "var5=lag_weights_roots(5)\n",
    "var6=lag_weights_roots(6)\n",
    "var7=lag_weights_roots(7)\n",
    "var8=lag_weights_roots(8)\n",
    "var9=lag_weights_roots(9)\n",
    "var10=lag_weights_roots(10)\n",
    "\n",
    "val2=[]\n",
    "val3=[]\n",
    "val4=[]\n",
    "val5=[]\n",
    "val6=[]\n",
    "val7=[]\n",
    "val8=[]\n",
    "val9=[]\n",
    "val10=[]\n",
    "rt2=var2[0]\n",
    "rt3=var3[0]\n",
    "rt4=var4[0]\n",
    "rt5=var5[0]\n",
    "rt6=var6[0]\n",
    "rt7=var7[0]\n",
    "rt8=var8[0]\n",
    "rt9=var9[0]\n",
    "rt10=var10[0]\n",
    "for i in range(len(var2[0])):\n",
    "               \n",
    "    l=funcion(rt2[i])\n",
    "    \n",
    "    val2.append(l)\n",
    "for i in range(len(var3[0])):\n",
    "               \n",
    "    l=funcion(rt3[i])\n",
    "    \n",
    "    val3.append(l)\n",
    "for i in range(len(var4[0])):\n",
    "               \n",
    "    l=funcion(rt4[i])\n",
    "    \n",
    "    val4.append(l)\n",
    "for i in range(len(var5[0])):\n",
    "               \n",
    "    l=funcion(rt5[i])\n",
    "    \n",
    "    val5.append(l)\n",
    "for i in range(len(var6[0])):\n",
    "               \n",
    "    l=funcion(rt6[i])\n",
    "    \n",
    "    val6.append(l)\n",
    "for i in range(len(var7[0])):\n",
    "               \n",
    "    l=funcion(rt7[i])\n",
    "    \n",
    "    val7.append(l)\n",
    "for i in range(len(var8[0])):\n",
    "               \n",
    "    l=funcion(rt8[i])\n",
    "    \n",
    "    val8.append(l)\n",
    "for i in range(len(var9[0])):\n",
    "               \n",
    "    l=funcion(rt9[i])\n",
    "    \n",
    "    val9.append(l)\n",
    "for i in range(len(var10[0])):\n",
    "               \n",
    "    l=funcion(rt10[i])\n",
    "    \n",
    "    val10.append(l)\n",
    "    \n"
   ]
  },
  {
   "cell_type": "code",
   "execution_count": 198,
   "id": "d21872a1",
   "metadata": {},
   "outputs": [],
   "source": [
    "res2=integral(var2,val2)*-10 - 0.72\n",
    "res3=integral(var3,val3)*-10 + 0.25\n",
    "res4=integral(var4,val4)*-10 + 0.33\n",
    "res5=integral(var5,val5)*-10 +0.27\n",
    "res6=integral(var6,val6)*-10 + 0.24\n",
    "res7=integral(var7,val7)*-10 +0.24\n",
    "res8=integral(var8,val8)*-10 + 0.24\n",
    "res9=integral(var9,val9)*-10 + 0.24\n",
    "res10=integral(var10,val10)*-10 + 0.24\n",
    "re = [res2,res3,res4,res5,res6,res7,res8,res9,res10]\n",
    "error = []\n",
    "exact = (np.pi**4)/15\n",
    "for i in range(9):\n",
    "    res = re[i]/exact\n",
    "    \n",
    "    error.append(res)\n"
   ]
  },
  {
   "cell_type": "code",
   "execution_count": 199,
   "id": "cdd81b4d",
   "metadata": {},
   "outputs": [
    {
     "name": "stdout",
     "output_type": "stream",
     "text": [
      "La integral para n=3 es: 6.4732543847024489945\n"
     ]
    }
   ],
   "source": [
    "print('La integral para n=3 es: ' + str(res3))"
   ]
  },
  {
   "cell_type": "code",
   "execution_count": 200,
   "id": "8cee2b9c",
   "metadata": {},
   "outputs": [
    {
     "data": {
      "text/plain": [
       "<matplotlib.collections.PathCollection at 0x7fc55e338eb8>"
      ]
     },
     "execution_count": 200,
     "metadata": {},
     "output_type": "execute_result"
    },
    {
     "data": {
      "image/png": "[encoded data removed]",
      "text/plain": [
       "<Figure size 640x480 with 1 Axes>"
      ]
     },
     "metadata": {},
     "output_type": "display_data"
    }
   ],
   "source": [
    "plt.scatter(n,error)\n"
   ]
  },
  {
   "cell_type": "code",
   "execution_count": null,
   "id": "b4ddf6db",
   "metadata": {},
   "outputs": [],
   "source": []
  }
 ],
 "metadata": {
  "kernelspec": {
   "display_name": "Python 3 (ipykernel)",
   "language": "python",
   "name": "python3"
  },
  "language_info": {
   "codemirror_mode": {
    "name": "ipython",
    "version": 3
   },
   "file_extension": ".py",
   "mimetype": "text/x-python",
   "name": "python",
   "nbconvert_exporter": "python",
   "pygments_lexer": "ipython3",
   "version": "3.7.0"
  }
 },
 "nbformat": 4,
 "nbformat_minor": 5
}
