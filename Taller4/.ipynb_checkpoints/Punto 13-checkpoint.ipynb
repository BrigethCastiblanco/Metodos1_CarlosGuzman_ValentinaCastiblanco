{
 "cells": [
  {
   "cell_type": "code",
   "execution_count": 2,
   "id": "82234e2e",
   "metadata": {},
   "outputs": [],
   "source": [
    "import numpy as np\n",
    "import matplotlib.pyplot as plt\n",
    "from matplotlib import rc\n",
    "import pandas as pd\n",
    "import sympy as sym\n",
    "import os.path as path"
   ]
  },
  {
   "cell_type": "code",
   "execution_count": 3,
   "id": "1a8daa93",
   "metadata": {},
   "outputs": [],
   "source": [
    "def GetLegendre(n):\n",
    "    \n",
    "    x = sym.Symbol('x',Real=True)\n",
    "    y = sym.Symbol('y',Real=True)\n",
    "    \n",
    "    y = (x**2 - 1)**n\n",
    "    \n",
    "    p = sym.diff(y,x,n)/(2**n * np.math.factorial(n))\n",
    "    \n",
    "    return p\n"
   ]
  },
  {
   "cell_type": "code",
   "execution_count": 4,
   "id": "9e52d906",
   "metadata": {},
   "outputs": [],
   "source": [
    "Legendre = []"
   ]
  },
  {
   "cell_type": "code",
   "execution_count": 5,
   "id": "56b702d8",
   "metadata": {},
   "outputs": [],
   "source": [
    "x = sym.Symbol('x',Real=True)\n",
    "n=20\n",
    "\n",
    "for i in range(n+1):\n",
    "    \n",
    "    poly = GetLegendre(i)\n",
    "    \n",
    "    Legendre.append(poly)"
   ]
  },
  {
   "cell_type": "code",
   "execution_count": 28,
   "id": "96ff3a14",
   "metadata": {},
   "outputs": [
    {
     "data": {
      "text/latex": [
       "$\\displaystyle 1.0 x^{2} + 5 x + 3.0$"
      ],
      "text/plain": [
       "1.0*x**2 + 5*x + 3.0"
      ]
     },
     "execution_count": 28,
     "metadata": {},
     "output_type": "execute_result"
    }
   ],
   "source": [
    "p0=Legendre[0]\n",
    "p1 = Legendre[1]\n",
    "p2 = Legendre[2]\n",
    "p=3+5*x+x**2\n",
    "pres=(10/3)*p0+5*p1+(2/3)*p2\n",
    "pres=pres.expand()"
   ]
  },
  {
   "cell_type": "code",
   "execution_count": 30,
   "id": "5a13049e",
   "metadata": {},
   "outputs": [
    {
     "name": "stdout",
     "output_type": "stream",
     "text": [
      "Si cogemos y multiplicamos p0 por 10/3, p1 por 5 y p2 por 2/3, nos da lo siguiente: 1.0*x**2 + 5*x + 3.0\n",
      "Lo cual es igual al lado izquierdo de la eciacion, o sea a: x**2 + 5*x + 3\n"
     ]
    }
   ],
   "source": [
    "print('Si cogemos y multiplicamos p0 por 10/3, p1 por 5 y p2 por 2/3, nos da lo siguiente: ' + str(pres))\n",
    "print('Lo cual es igual al lado izquierdo de la eciacion, o sea a: '+ str(p))"
   ]
  },
  {
   "cell_type": "code",
   "execution_count": null,
   "id": "16306380",
   "metadata": {},
   "outputs": [],
   "source": []
  }
 ],
 "metadata": {
  "kernelspec": {
   "display_name": "Python 3 (ipykernel)",
   "language": "python",
   "name": "python3"
  },
  "language_info": {
   "codemirror_mode": {
    "name": "ipython",
    "version": 3
   },
   "file_extension": ".py",
   "mimetype": "text/x-python",
   "name": "python",
   "nbconvert_exporter": "python",
   "pygments_lexer": "ipython3",
   "version": "3.7.0"
  }
 },
 "nbformat": 4,
 "nbformat_minor": 5
}
