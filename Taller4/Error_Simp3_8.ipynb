{
  "nbformat": 4,
  "nbformat_minor": 0,
  "metadata": {
    "colab": {
      "provenance": [],
      "collapsed_sections": []
    },
    "kernelspec": {
      "name": "python3",
      "display_name": "Python 3"
    },
    "language_info": {
      "name": "python"
    }
  },
  "cells": [
    {
      "cell_type": "code",
      "execution_count": null,
      "metadata": {
        "colab": {
          "base_uri": "https://localhost:8080/",
          "height": 39
        },
        "id": "UNl98eD2C8Wa",
        "outputId": "0ec4c8f4-4cfb-4118-ffd9-d44ffe12ccaa"
      },
      "outputs": [
        {
          "output_type": "execute_result",
          "data": {
            "text/plain": [
              "x*(x - 3)*(x - 2)*(x - 1)"
            ],
            "text/latex": "$\\displaystyle x \\left(x - 3\\right) \\left(x - 2\\right) \\left(x - 1\\right)$"
          },
          "metadata": {},
          "execution_count": 13
        }
      ],
      "source": [
        "import numpy as np\n",
        "import sympy as sym\n",
        "\n",
        "x = sym.Symbol('x',Real=True)\n",
        "h = sym.Symbol('h',Real=True)\n",
        "\n",
        "def f(x,h):\n",
        "  h = 1\n",
        "  t=x*(x-h)*(x-2*h)*(x-3*h) #hint\n",
        "  return t\n",
        "\n",
        "u = f(x,h)\n",
        "\n",
        "u"
      ]
    },
    {
      "cell_type": "markdown",
      "source": [
        "Ecuacion a utilizar para determinar el error:\n",
        "\n",
        "Newton-Cotes\n",
        "\n",
        "$E(f) = \\displaystyle\\frac{h^{n+2}f^{n+1}}{(n+1)!} \\cdot \\displaystyle\\int_{0}^{n} x(x-1)(x-2)...(x-n) dt$\n"
      ],
      "metadata": {
        "id": "iP4zwzLAEVp_"
      }
    },
    {
      "cell_type": "code",
      "source": [
        "n = 3 #en simpson 3/8 polinomio grado tres\n",
        "\n",
        "f = sym.Symbol('f',Real=True)\n",
        "\n",
        "def error(x,h,n,f):\n",
        "  p = (h**(n+2))*(f**(n+1))\n",
        "  d = sym.factorial(n+1)\n",
        "  return (p/d)\n",
        "\n",
        "e=error(x,h,n,f)\n",
        "\n",
        "def integral(u,h,n):\n",
        "  nt = sym.integrate(u,(x,0,3))\n",
        "  return nt\n",
        "\n",
        "i=integral(u,h,n)\n",
        "\n",
        "def simps8n_error(e,i):\n",
        "  se=e*i\n",
        "  return se\n",
        "\n",
        "total_error=simps8n_error(e,i)\n",
        "\n",
        "print(total_error)\n"
      ],
      "metadata": {
        "colab": {
          "base_uri": "https://localhost:8080/"
        },
        "id": "TpDhdv23Eww4",
        "outputId": "4d137efa-ff87-47df-8d57-f7028401a7fa"
      },
      "execution_count": null,
      "outputs": [
        {
          "output_type": "stream",
          "name": "stdout",
          "text": [
            "-3*f**4*h**5/80\n"
          ]
        }
      ]
    }
  ]
}