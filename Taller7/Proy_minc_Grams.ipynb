{
 "cells": [
  {
   "cell_type": "code",
   "execution_count": 2,
   "id": "c781380d",
   "metadata": {},
   "outputs": [],
   "source": [
    "import numpy as np\n",
    "import sympy as sym"
   ]
  },
  {
   "cell_type": "code",
   "execution_count": 3,
   "id": "f7f2df0f",
   "metadata": {},
   "outputs": [
    {
     "data": {
      "text/plain": [
       "array([[-3],\n",
       "       [-3],\n",
       "       [ 8],\n",
       "       [ 9]])"
      ]
     },
     "execution_count": 3,
     "metadata": {},
     "output_type": "execute_result"
    }
   ],
   "source": [
    "b=np.array([[-3],[-3],[8],[9]])\n",
    "b"
   ]
  },
  {
   "cell_type": "code",
   "execution_count": 16,
   "id": "8b96a986",
   "metadata": {},
   "outputs": [
    {
     "data": {
      "text/plain": [
       "(array([3, 1, 0, 1]), array([1, 2, 2, 1]), array([-1,  0,  2, -1]))"
      ]
     },
     "execution_count": 16,
     "metadata": {},
     "output_type": "execute_result"
    }
   ],
   "source": [
    "u1=np.array([3,1,0,1])\n",
    "u2=np.array([1,2,2,1])\n",
    "u3=np.array([-1,0,2,-1])\n",
    "u1,u2,u3"
   ]
  },
  {
   "cell_type": "markdown",
   "id": "a1357d85",
   "metadata": {},
   "source": [
    "# Punto a."
   ]
  },
  {
   "cell_type": "code",
   "execution_count": 73,
   "id": "06eeff0f",
   "metadata": {},
   "outputs": [
    {
     "data": {
      "text/plain": [
       "array([[ 3,  1, -1],\n",
       "       [ 1,  2,  0],\n",
       "       [ 0,  2,  2],\n",
       "       [ 1,  1, -1]])"
      ]
     },
     "execution_count": 73,
     "metadata": {},
     "output_type": "execute_result"
    }
   ],
   "source": [
    "A=np.array([u1,u2,u3]).T\n",
    "A     "
   ]
  },
  {
   "cell_type": "code",
   "execution_count": 74,
   "id": "518ab26d",
   "metadata": {},
   "outputs": [
    {
     "data": {
      "text/plain": [
       "array([[ 3,  1,  0,  1],\n",
       "       [ 1,  2,  2,  1],\n",
       "       [-1,  0,  2, -1]])"
      ]
     },
     "execution_count": 74,
     "metadata": {},
     "output_type": "execute_result"
    }
   ],
   "source": [
    "A.T"
   ]
  },
  {
   "cell_type": "code",
   "execution_count": 75,
   "id": "8093b212",
   "metadata": {},
   "outputs": [
    {
     "data": {
      "text/plain": [
       "array([[11,  6, -4],\n",
       "       [ 6, 10,  2],\n",
       "       [-4,  2,  6]])"
      ]
     },
     "execution_count": 75,
     "metadata": {},
     "output_type": "execute_result"
    }
   ],
   "source": [
    "AAT=np.dot(A.T,A)\n",
    "AAT"
   ]
  },
  {
   "cell_type": "code",
   "execution_count": 76,
   "id": "3b0c8384",
   "metadata": {},
   "outputs": [
    {
     "data": {
      "text/plain": [
       "array([[-3],\n",
       "       [16],\n",
       "       [10]])"
      ]
     },
     "execution_count": 76,
     "metadata": {},
     "output_type": "execute_result"
    }
   ],
   "source": [
    "ATb=np.dot(A.T,b)\n",
    "ATb"
   ]
  },
  {
   "cell_type": "code",
   "execution_count": 77,
   "id": "e7a1f8f3",
   "metadata": {},
   "outputs": [
    {
     "data": {
      "text/plain": [
       "array([[-2.44444444],\n",
       "       [ 3.27777778],\n",
       "       [-1.05555556]])"
      ]
     },
     "execution_count": 77,
     "metadata": {},
     "output_type": "execute_result"
    }
   ],
   "source": [
    "x=np.linalg.solve(AAT,ATb)\n",
    "x"
   ]
  },
  {
   "cell_type": "code",
   "execution_count": 78,
   "id": "a324224a",
   "metadata": {},
   "outputs": [],
   "source": [
    "def proy_ort(A,x):\n",
    "    p = np.dot(A,x)\n",
    "    return p"
   ]
  },
  {
   "cell_type": "code",
   "execution_count": 79,
   "id": "05a68bcd",
   "metadata": {},
   "outputs": [
    {
     "data": {
      "text/plain": [
       "array([[-3.        ],\n",
       "       [ 4.11111111],\n",
       "       [ 4.44444444],\n",
       "       [ 1.88888889]])"
      ]
     },
     "execution_count": 79,
     "metadata": {},
     "output_type": "execute_result"
    }
   ],
   "source": [
    "proy_ort(A,x)"
   ]
  },
  {
   "cell_type": "markdown",
   "id": "6af23f88",
   "metadata": {},
   "source": [
    "# Punto b."
   ]
  },
  {
   "cell_type": "code",
   "execution_count": 5,
   "id": "da5146d0",
   "metadata": {},
   "outputs": [
    {
     "data": {
      "text/plain": [
       "array([0.90453403, 0.30151134, 0.        , 0.30151134])"
      ]
     },
     "execution_count": 5,
     "metadata": {},
     "output_type": "execute_result"
    }
   ],
   "source": [
    "mag_u1=np.linalg.norm(u1)\n",
    "v1=u1*(1/(mag_u1))\n",
    "v1"
   ]
  },
  {
   "cell_type": "code",
   "execution_count": 6,
   "id": "6f119906",
   "metadata": {},
   "outputs": [],
   "source": [
    "def gram_schmidt(v1,u2,u3):\n",
    "    u2p = u2-(np.dot(u2,v1))*v1\n",
    "    v2 = u2p*(1/np.linalg.norm(u2p))\n",
    "    u3p = (u3-(np.dot(u3,v1)*v1)) - (np.dot(u3,v2))*v2\n",
    "    v3= u3p*(1/np.linalg.norm(u3p))\n",
    "    base=(v1,v2,v3)\n",
    "    return base\n",
    "    "
   ]
  },
  {
   "cell_type": "code",
   "execution_count": 8,
   "id": "0343fde3",
   "metadata": {},
   "outputs": [
    {
     "data": {
      "text/plain": [
       "array([0.90453403, 0.30151134, 0.        , 0.30151134])"
      ]
     },
     "execution_count": 8,
     "metadata": {},
     "output_type": "execute_result"
    }
   ],
   "source": [
    "v = gram_schmidt(v1,u2,u3)\n",
    "v[0]"
   ]
  },
  {
   "cell_type": "code",
   "execution_count": 10,
   "id": "22f783d9",
   "metadata": {},
   "outputs": [
    {
     "data": {
      "text/plain": [
       "array([-0.90453403,  6.79969648, -1.47247009])"
      ]
     },
     "execution_count": 10,
     "metadata": {},
     "output_type": "execute_result"
    }
   ],
   "source": [
    "b = np.array([-3, -3,  8,  9])\n",
    "c = np.zeros(3)\n",
    "for i in range(3):\n",
    "    c[i]=np.dot(b,v[i])\n",
    "c"
   ]
  },
  {
   "cell_type": "code",
   "execution_count": 15,
   "id": "05c7c85c",
   "metadata": {},
   "outputs": [
    {
     "name": "stdout",
     "output_type": "stream",
     "text": [
      "[-0.81818182 -0.27272727 -0.         -0.27272727]\n",
      "[-1.66830467  3.81326781  5.24324324  1.19164619]\n",
      "[-0.51351351  0.57057057 -0.7987988   0.96996997]\n"
     ]
    }
   ],
   "source": [
    "for i in range(3):\n",
    "    p = (c[i]*v[i])\n",
    "    print(p)"
   ]
  },
  {
   "cell_type": "code",
   "execution_count": 207,
   "id": "e18b2960",
   "metadata": {},
   "outputs": [
    {
     "data": {
      "text/plain": [
       "-3.0"
      ]
     },
     "execution_count": 207,
     "metadata": {},
     "output_type": "execute_result"
    }
   ],
   "source": [
    "-0.81818182-1.66830467-0.51351351"
   ]
  },
  {
   "cell_type": "code",
   "execution_count": 188,
   "id": "53e9cb11",
   "metadata": {},
   "outputs": [
    {
     "data": {
      "text/plain": [
       "4.11111111"
      ]
     },
     "execution_count": 188,
     "metadata": {},
     "output_type": "execute_result"
    }
   ],
   "source": [
    "-0.27272727+3.81326781+0.57057057"
   ]
  },
  {
   "cell_type": "code",
   "execution_count": 14,
   "id": "56df1e42",
   "metadata": {},
   "outputs": [
    {
     "data": {
      "text/plain": [
       "4.44444444"
      ]
     },
     "execution_count": 14,
     "metadata": {},
     "output_type": "execute_result"
    }
   ],
   "source": [
    "0.+5.24324324-0.7987988"
   ]
  },
  {
   "cell_type": "code",
   "execution_count": 190,
   "id": "13354794",
   "metadata": {},
   "outputs": [
    {
     "data": {
      "text/plain": [
       "1.8888888899999998"
      ]
     },
     "execution_count": 190,
     "metadata": {},
     "output_type": "execute_result"
    }
   ],
   "source": [
    "-0.27272727+1.19164619+0.96996997"
   ]
  },
  {
   "cell_type": "code",
   "execution_count": 17,
   "id": "f5fd321e",
   "metadata": {},
   "outputs": [
    {
     "name": "stdout",
     "output_type": "stream",
     "text": [
      "[ 1.11022302e-16 -6.03022689e-01 -9.04534034e-01 -6.03022689e-01]\n",
      "[6.55434661 7.36049619 7.57079608 6.97494639]\n",
      "[-1.12372717 -1.85996222 -0.92998111 -2.13120671]\n"
     ]
    },
    {
     "ename": "IndexError",
     "evalue": "index 3 is out of bounds for axis 0 with size 3",
     "output_type": "error",
     "traceback": [
      "\u001b[1;31m---------------------------------------------------------------------------\u001b[0m",
      "\u001b[1;31mIndexError\u001b[0m                                Traceback (most recent call last)",
      "Input \u001b[1;32mIn [17]\u001b[0m, in \u001b[0;36m<cell line: 1>\u001b[1;34m()\u001b[0m\n\u001b[0;32m      1\u001b[0m \u001b[38;5;28;01mfor\u001b[39;00m i \u001b[38;5;129;01min\u001b[39;00m \u001b[38;5;28mrange\u001b[39m(\u001b[38;5;241m4\u001b[39m):\n\u001b[1;32m----> 2\u001b[0m     pwb \u001b[38;5;241m=\u001b[39m \u001b[43mc\u001b[49m\u001b[43m[\u001b[49m\u001b[43mi\u001b[49m\u001b[43m]\u001b[49m\u001b[38;5;241m+\u001b[39mv[i]\n\u001b[0;32m      3\u001b[0m     \u001b[38;5;28mprint\u001b[39m(pwb)\n",
      "\u001b[1;31mIndexError\u001b[0m: index 3 is out of bounds for axis 0 with size 3"
     ]
    }
   ],
   "source": [
    "for i in range(4):\n",
    "    pwb = c[i]+v[i]\n",
    "    print(pwb)"
   ]
  },
  {
   "cell_type": "code",
   "execution_count": null,
   "id": "08960e1e",
   "metadata": {},
   "outputs": [],
   "source": []
  }
 ],
 "metadata": {
  "kernelspec": {
   "display_name": "Python 3 (ipykernel)",
   "language": "python",
   "name": "python3"
  },
  "language_info": {
   "codemirror_mode": {
    "name": "ipython",
    "version": 3
   },
   "file_extension": ".py",
   "mimetype": "text/x-python",
   "name": "python",
   "nbconvert_exporter": "python",
   "pygments_lexer": "ipython3",
   "version": "3.9.12"
  }
 },
 "nbformat": 4,
 "nbformat_minor": 5
}
