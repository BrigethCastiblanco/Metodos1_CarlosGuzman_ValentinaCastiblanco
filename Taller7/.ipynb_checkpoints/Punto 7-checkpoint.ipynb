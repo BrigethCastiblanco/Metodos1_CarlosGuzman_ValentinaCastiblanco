{
 "cells": [
  {
   "cell_type": "code",
   "execution_count": 2,
   "id": "64fcfa4b",
   "metadata": {},
   "outputs": [],
   "source": [
    "from scipy import optimize\n",
    "import numpy as np\n",
    "import matplotlib.pyplot as plt\n",
    "import pandas as pd\n",
    "import os.path as path\n",
    "import wget"
   ]
  },
  {
   "cell_type": "code",
   "execution_count": 4,
   "id": "bb5d788e",
   "metadata": {},
   "outputs": [],
   "source": [
    "file = 'Data/data.csv'\n",
    "url = 'https://raw.githubusercontent.com/asegura4488/Database/main/MetodosComputacionalesReforma/Sigmoid.csv'\n",
    "if not path.exists(file):\n",
    "    Path_ = wget.download(url,file)\n",
    "else:\n",
    "    Path_ = file"
   ]
  },
  {
   "cell_type": "code",
   "execution_count": 7,
   "id": "dfff62c1",
   "metadata": {},
   "outputs": [],
   "source": [
    "Data = pd.read_csv(Path_,sep=',')\n",
    "x = np.float64(Data['x'])\n",
    "y = np.float64(Data['y'])\n",
    "n = Y.size\n",
    "h = 0.01"
   ]
  },
  {
   "cell_type": "code",
   "execution_count": 8,
   "id": "7339f42e",
   "metadata": {},
   "outputs": [],
   "source": [
    "def fun(x, t0,t1,t2):\n",
    "    \n",
    "    res = t0/ (t1 + np.exp(-t2*x))\n",
    "    \n",
    "    return res"
   ]
  },
  {
   "cell_type": "code",
   "execution_count": 31,
   "id": "3aa357cd",
   "metadata": {},
   "outputs": [],
   "source": [
    "def costo(x,y, t1,t2,t3):\n",
    "    chi = 0\n",
    "    \n",
    "    for i in range(n):\n",
    "        chi += (y[i] - fun(x[i],t1,t2,t3))**2\n",
    "    return chi "
   ]
  },
  {
   "cell_type": "code",
   "execution_count": 32,
   "id": "ba9d6015",
   "metadata": {},
   "outputs": [],
   "source": [
    "def Derivadas(x,y,t0,t1,t2):\n",
    "    J = np.zeros(3)\n",
    "    \n",
    "    J[0] = ( costo(x,y,t0+h,t1,t2) - costo(x,y,t0-h,t1,t2))/(2*h)\n",
    "    J[1] = ( costo(x,y,t0,t1+h,t2) - costo(x,y,t0,t1-h,t2))/(2*h)\n",
    "    J[2] = ( costo(x,y,t0,t1,t2+h) - costo(x,y,t0,t1,t2-h))/(2*h)\n",
    "    return J"
   ]
  },
  {
   "cell_type": "code",
   "execution_count": 45,
   "id": "6200916a",
   "metadata": {},
   "outputs": [],
   "source": [
    "def Descenso( teta, lr, itmax, error):\n",
    "    it = 0\n",
    "    d = 1\n",
    "    while d > error and it < itmax:\n",
    "        x0 = Derivadas(x,y,teta[0],teta[1],teta[2])\n",
    "        \n",
    "        teta = teta - lr*x0\n",
    "        \n",
    "        d = np.linalg.norm(teta-optimize.curve_fit(fun,x,y)[0])\n",
    "        \n",
    "        it += 1\n",
    "        \n",
    "\n",
    "    return teta, d,it\n"
   ]
  },
  {
   "cell_type": "code",
   "execution_count": 46,
   "id": "7cc19f42",
   "metadata": {},
   "outputs": [
    {
     "name": "stdout",
     "output_type": "stream",
     "text": [
      "Puede demorarse unos segundos...\n",
      "Los puntos que mejor se ajustan al modelo son: \n",
      " 4.394141971870481\n",
      " 0.9737879524137685\n",
      " 2.789338222493078\n",
      "\n",
      "\n",
      "El valor del chi cuadrado es: 0.10503710593049193\n",
      "\n",
      "El error es de: 0.009993015026471529\n",
      "\n",
      "Ademas el algoritmo hizo un total de: 19946 iteraciones\n"
     ]
    }
   ],
   "source": [
    "print('Puede demorarse unos segundos...')\n",
    "teta0 = np.array([1,1,1])\n",
    "p = Descenso(teta0,5e-4,2e4,1e-2)\n",
    "\n",
    "t0 = p[0][0]\n",
    "t1 = p[0][1]\n",
    "t2 = p[0][2]\n",
    "\n",
    "chi = costo(x,y,t0,t1,t2)\n",
    "\n",
    "print('Los puntos que mejor se ajustan al modelo son: \\n', str(t0)+'\\n',str(t1)+'\\n',str(t2)+'\\n')\n",
    "print('\\nEl valor del chi cuadrado es: ' + str(chi))\n",
    "print('\\nEl error es de: ' + str(p[1]))\n",
    "print('\\nAdemas el algoritmo hizo un total de: ' + str(p[2]) +' iteraciones')\n"
   ]
  },
  {
   "cell_type": "code",
   "execution_count": 49,
   "id": "5a35f3de",
   "metadata": {},
   "outputs": [
    {
     "data": {
      "text/plain": [
       "[<matplotlib.lines.Line2D at 0x7f2ac206d490>]"
      ]
     },
     "execution_count": 49,
     "metadata": {},
     "output_type": "execute_result"
    },
    {
     "data": {
      "image/png": "[encoded data removed]",
      "text/plain": [
       "<Figure size 360x360 with 1 Axes>"
      ]
     },
     "metadata": {
      "needs_background": "light"
     },
     "output_type": "display_data"
    }
   ],
   "source": [
    "x1 = np.linspace(min(x),max(x),500)\n",
    "fig = plt.figure(figsize=(5,5))\n",
    "ax = fig.add_subplot(1,1,1)\n",
    "ax.scatter(x,y,c='r')\n",
    "plt.plot(x1,fun(x1,t0,t1,t2),c='b')"
   ]
  },
  {
   "cell_type": "code",
   "execution_count": null,
   "id": "05eaed2f",
   "metadata": {},
   "outputs": [],
   "source": []
  },
  {
   "cell_type": "code",
   "execution_count": null,
   "id": "03b1077d",
   "metadata": {},
   "outputs": [],
   "source": []
  }
 ],
 "metadata": {
  "kernelspec": {
   "display_name": "Python 3 (ipykernel)",
   "language": "python",
   "name": "python3"
  },
  "language_info": {
   "codemirror_mode": {
    "name": "ipython",
    "version": 3
   },
   "file_extension": ".py",
   "mimetype": "text/x-python",
   "name": "python",
   "nbconvert_exporter": "python",
   "pygments_lexer": "ipython3",
   "version": "3.8.8"
  }
 },
 "nbformat": 4,
 "nbformat_minor": 5
}
