{
 "cells": [
  {
   "cell_type": "code",
   "execution_count": 54,
   "id": "9c6b50cd",
   "metadata": {},
   "outputs": [
    {
     "name": "stdout",
     "output_type": "stream",
     "text": [
      "Requirement already satisfied: wget in /home/cl/anaconda3/lib/python3.8/site-packages (3.2)\r\n"
     ]
    },
    {
     "data": {
      "text/html": [
       "<style>.container { width:100% !important; }</style>"
      ],
      "text/plain": [
       "<IPython.core.display.HTML object>"
      ]
     },
     "metadata": {},
     "output_type": "display_data"
    }
   ],
   "source": [
    "!pip install wget\n",
    "from IPython.display import display, HTML\n",
    "display(HTML(\"<style>.container { width:100% !important; }</style>\"))\n",
    "#%matplotlib notebook\n",
    "import numpy as np\n",
    "import matplotlib.pyplot as plt\n",
    "import sympy as sym\n",
    "from scipy.stats import chi2\n",
    "import os.path as path\n",
    "import wget"
   ]
  },
  {
   "cell_type": "code",
   "execution_count": 143,
   "id": "0b30e91a",
   "metadata": {},
   "outputs": [
    {
     "name": "stdout",
     "output_type": "stream",
     "text": [
      "File loaded\n"
     ]
    }
   ],
   "source": [
    "!rm 'Data/Minimos.dat'\n",
    "file = 'Data/Minimos.dat'\n",
    "#url = 'https://raw.githubusercontent.com/asegura4488/Database/main/MetodosComputacionalesReforma/MinimosLineal.txt'\n",
    "url = 'https://raw.githubusercontent.com/asegura4488/Database/main/MetodosComputacionalesReforma/MinimosCuadratico.txt'\n",
    "if not path.exists(file):\n",
    "    Path_ = wget.download(url,file)\n",
    "    print('File loaded')\n",
    "else:\n",
    "    Path_ = file"
   ]
  },
  {
   "cell_type": "code",
   "execution_count": 199,
   "id": "2418572b",
   "metadata": {},
   "outputs": [
    {
     "data": {
      "text/plain": [
       "[5.0,\n",
       " 5.0,\n",
       " 5.0,\n",
       " 5.0,\n",
       " 5.0,\n",
       " 5.0,\n",
       " 5.0,\n",
       " 5.0,\n",
       " 5.0,\n",
       " 5.0,\n",
       " 5.0,\n",
       " 5.0,\n",
       " 5.0,\n",
       " 5.0,\n",
       " 5.0,\n",
       " 5.0,\n",
       " 5.0,\n",
       " 5.0,\n",
       " 5.0,\n",
       " 5.0]"
      ]
     },
     "execution_count": 199,
     "metadata": {},
     "output_type": "execute_result"
    }
   ],
   "source": [
    "data = np.loadtxt(Path_)\n",
    "x = data[:,0]\n",
    "y = data[:,1]\n",
    "N = len(x)\n",
    "sigma = [5. for i in range(N) ]\n",
    "#sigma = np.random.uniform(1,5,size=N)\n",
    "sigma"
   ]
  },
  {
   "cell_type": "code",
   "execution_count": 200,
   "id": "4b51d75f",
   "metadata": {},
   "outputs": [
    {
     "data": {
      "text/plain": [
       "<ErrorbarContainer object of 3 artists>"
      ]
     },
     "execution_count": 200,
     "metadata": {},
     "output_type": "execute_result"
    },
    {
     "data": {
      "image/png": "[encoded data removed]",
      "text/plain": [
       "<Figure size 432x288 with 1 Axes>"
      ]
     },
     "metadata": {
      "needs_background": "light"
     },
     "output_type": "display_data"
    }
   ],
   "source": [
    "plt.errorbar(x,y,yerr = sigma, fmt = 'o')"
   ]
  },
  {
   "cell_type": "code",
   "execution_count": 201,
   "id": "617864e4",
   "metadata": {},
   "outputs": [],
   "source": [
    "def GetFit(x,y,n):\n",
    "    \n",
    "    Datasize=x.shape[0]\n",
    "    \n",
    "    b=y\n",
    "\n",
    "    A = np.ones((Datasize, n+1))\n",
    "    \n",
    "    for i in range(1, n+1):\n",
    "        A[:,i] = x**i\n",
    "    \n",
    "    AT = np.dot(A.T, A)\n",
    "    bT = A.T @ b\n",
    "    \n",
    "    xsol = np.linalg.solve(AT, bT)\n",
    "    return xsol"
   ]
  },
  {
   "cell_type": "code",
   "execution_count": 202,
   "id": "7a96bb9b",
   "metadata": {},
   "outputs": [
    {
     "data": {
      "text/plain": [
       "array([-0.99429944, 13.42905153, -0.93852849,  0.65758686, -0.03440436])"
      ]
     },
     "execution_count": 202,
     "metadata": {},
     "output_type": "execute_result"
    }
   ],
   "source": [
    "param = GetFit(x,y,4)\n",
    "param"
   ]
  },
  {
   "cell_type": "code",
   "execution_count": 203,
   "id": "882d65e0",
   "metadata": {},
   "outputs": [],
   "source": [
    "def GetModel (x,p):\n",
    "     \n",
    "    y = 0\n",
    "    \n",
    "    for n in range(len(p)):\n",
    "        y += p[n] * x**n\n",
    "        \n",
    "    return y "
   ]
  },
  {
   "cell_type": "code",
   "execution_count": 204,
   "id": "77e07e12",
   "metadata": {},
   "outputs": [
    {
     "data": {
      "text/latex": [
       "$\\displaystyle - 0.0344043618488567 x^{4} + 0.657586862571663 x^{3} - 0.938528494373043 x^{2} + 13.4290515335412 x - 0.994299438432217$"
      ],
      "text/plain": [
       "-0.0344043618488567*x**4 + 0.657586862571663*x**3 - 0.938528494373043*x**2 + 13.4290515335412*x - 0.994299438432217"
      ]
     },
     "execution_count": 204,
     "metadata": {},
     "output_type": "execute_result"
    }
   ],
   "source": [
    "X = sym.Symbol('x', real = True)\n",
    "GetModel(X, param)"
   ]
  },
  {
   "cell_type": "code",
   "execution_count": 205,
   "id": "6d5d9d3e",
   "metadata": {},
   "outputs": [
    {
     "data": {
      "text/plain": [
       "[<matplotlib.lines.Line2D at 0x7f4ef62a3e20>]"
      ]
     },
     "execution_count": 205,
     "metadata": {},
     "output_type": "execute_result"
    },
    {
     "data": {
      "image/png": "[encoded data removed]",
      "text/plain": [
       "<Figure size 360x360 with 1 Axes>"
      ]
     },
     "metadata": {
      "needs_background": "light"
     },
     "output_type": "display_data"
    }
   ],
   "source": [
    "t = np.linspace(np.min(x), np.max(x), 50)\n",
    "\n",
    "\n",
    "fig = plt.figure(figsize=(5,5))\n",
    "ax = fig.add_subplot(111)\n",
    "ax.errorbar(x,y,yerr=sigma, fmt='o', color = 'r')\n",
    "ax.plot(t,GetModel(t,param))"
   ]
  },
  {
   "cell_type": "code",
   "execution_count": 206,
   "id": "485b7eaf",
   "metadata": {},
   "outputs": [],
   "source": [
    "def GetChi2(x,y,sigma,p,reducido=True):\n",
    "    \n",
    "    df = (len(x)-len(p)-1)\n",
    "    \n",
    "    if not reducido:\n",
    "        return np.sum( ( (y-GetModel(x,p))/sigma )**2)\n",
    "    else:\n",
    "        return np.sum( ( (y-GetModel(x,p))/sigma )**2)/df\n",
    "        "
   ]
  },
  {
   "cell_type": "code",
   "execution_count": 207,
   "id": "5652420b",
   "metadata": {},
   "outputs": [
    {
     "data": {
      "text/plain": [
       "1.3422970952419067"
      ]
     },
     "execution_count": 207,
     "metadata": {},
     "output_type": "execute_result"
    }
   ],
   "source": [
    "GetChi2(x,y,sigma,param)"
   ]
  },
  {
   "cell_type": "code",
   "execution_count": 208,
   "id": "80d3dedb",
   "metadata": {},
   "outputs": [
    {
     "name": "stdout",
     "output_type": "stream",
     "text": [
      "[29.01028747  1.38378323  1.45276663  1.3422971   1.42735545  1.46565605\n",
      "  1.33199611  1.45971766  1.61469759  1.81637753  2.06967521  2.50223265\n",
      "  2.62079964  3.15955059  4.24910612  6.3541402 ]\n"
     ]
    }
   ],
   "source": [
    "Vector_Chi2 = np.array([])\n",
    "nparam = 18\n",
    "\n",
    "for i in range(2, nparam):\n",
    "    \n",
    "    param = GetFit(x,y,i-1)\n",
    "    Chi2 = GetChi2(x,y,sigma,param)\n",
    "    \n",
    "    Vector_Chi2 = np.append(Vector_Chi2, Chi2)\n",
    "    \n",
    "print(Vector_Chi2)"
   ]
  },
  {
   "cell_type": "code",
   "execution_count": 209,
   "id": "494c31f3",
   "metadata": {},
   "outputs": [
    {
     "data": {
      "text/plain": [
       "<matplotlib.collections.PathCollection at 0x7f4ef62078b0>"
      ]
     },
     "execution_count": 209,
     "metadata": {},
     "output_type": "execute_result"
    },
    {
     "data": {
      "image/png": "[encoded data removed]",
      "text/plain": [
       "<Figure size 432x288 with 1 Axes>"
      ]
     },
     "metadata": {
      "needs_background": "light"
     },
     "output_type": "display_data"
    }
   ],
   "source": [
    "plt.scatter(np.arange(2,nparam,1), np.min(Vector_Chi2)/Vector_Chi2)"
   ]
  },
  {
   "cell_type": "code",
   "execution_count": null,
   "id": "f0f184ed",
   "metadata": {},
   "outputs": [],
   "source": []
  },
  {
   "cell_type": "code",
   "execution_count": null,
   "id": "933e6cb6",
   "metadata": {},
   "outputs": [],
   "source": []
  }
 ],
 "metadata": {
  "kernelspec": {
   "display_name": "Python 3 (ipykernel)",
   "language": "python",
   "name": "python3"
  },
  "language_info": {
   "codemirror_mode": {
    "name": "ipython",
    "version": 3
   },
   "file_extension": ".py",
   "mimetype": "text/x-python",
   "name": "python",
   "nbconvert_exporter": "python",
   "pygments_lexer": "ipython3",
   "version": "3.8.8"
  }
 },
 "nbformat": 4,
 "nbformat_minor": 5
}
