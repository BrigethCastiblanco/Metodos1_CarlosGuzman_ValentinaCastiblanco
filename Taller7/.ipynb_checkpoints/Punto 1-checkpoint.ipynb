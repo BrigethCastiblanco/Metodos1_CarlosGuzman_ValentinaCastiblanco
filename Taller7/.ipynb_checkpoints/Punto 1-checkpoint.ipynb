{
 "cells": [
  {
   "cell_type": "code",
   "execution_count": 2,
   "id": "a6e56ab0",
   "metadata": {},
   "outputs": [],
   "source": [
    "import matplotlib.pyplot as plt\n",
    "from matplotlib import cm\n",
    "import numpy as np\n",
    "from tqdm import tqdm"
   ]
  },
  {
   "cell_type": "code",
   "execution_count": 29,
   "id": "f9362c0a",
   "metadata": {},
   "outputs": [
    {
     "data": {
      "image/png": "[encoded data removed]",
      "text/plain": [
       "<Figure size 360x360 with 1 Axes>"
      ]
     },
     "metadata": {
      "needs_background": "light"
     },
     "output_type": "display_data"
    },
    {
     "name": "stdout",
     "output_type": "stream",
     "text": [
      "La respuesta que mejor se adapta a este sistema es: [1.42857143] , [0.42857143]\n",
      "Ademas de esta grafica podemos intrepetar que las tres rectas no se interseptan en el mismo punto. \n",
      "A su vez ninguna de estas tiene un solo punto en comun.\n"
     ]
    }
   ],
   "source": [
    "ar1 = np.array([[2,1,1],[-1,2,1]])\n",
    "ar2 = np.array([[2,1,4]])\n",
    "ar1 = ar1.T\n",
    "ar2 = ar2.T\n",
    "solu = np.dot(ar1.T, ar1)\n",
    "\n",
    "inv = np.linalg.inv(solu)\n",
    "\n",
    "res = np.dot(np.dot(inv,ar1.T), ar2)\n",
    "\n",
    "\n",
    "x = np.linspace(0,10,100)\n",
    "y1 = 2*x-2\n",
    "y2 = (1-x)/2\n",
    "y3 = 4-x\n",
    "\n",
    "fig = plt.figure(figsize=(5,5))\n",
    "ax = fig.add_subplot(1, 1, 1)\n",
    "plt.plot(x,y1,c = 'b')\n",
    "plt.plot(x,y2,c = 'orange' )\n",
    "plt.plot(x,y3, c= 'r')\n",
    "plt.scatter(res[0],res[1],c='c')\n",
    "plt.show()\n",
    "\n",
    "\n",
    "print('La respuesta que mejor se adapta a este sistema es: ' + str(res[0]) +' , ' + str(res[1]))\n",
    "print('Ademas de esta grafica podemos intrepetar que las tres rectas no se interseptan en el mismo punto. \\nA su vez ninguna de estas tiene un solo punto en comun.' )"
   ]
  },
  {
   "cell_type": "code",
   "execution_count": null,
   "id": "2461be31",
   "metadata": {},
   "outputs": [
    {
     "name": "stdout",
     "output_type": "stream",
     "text": [
      "Al graficar nos damos cuenta que la solucion anterior corresponde con el minimo de la funcion, \n",
      "ya que si nos damos cuenta es el punto mas bajo en la grafica.\n"
     ]
    }
   ],
   "source": [
    "fig = plt.figure(figsize=(5,5))\n",
    "ax = fig.add_subplot(1, 1, 1, projection='3d')\n",
    "x = np.arange(-5, 5, 0.03)\n",
    "y = np.arange(-5, 5, 0.03)\n",
    "x , y = np. meshgrid(x,y)\n",
    "fun =  np.sqrt((2*x-y-2)**2+(x+2*y-1)**2+(x+y-4)**2)\n",
    "sr =  ax.plot_surface(x,y,fun, rstride=1, cstride=1, cmap=cm.coolwarm,linewidth=0, antialiased=False)\n",
    "ax.set_zlim(0, 20)\n",
    "ax.view_init(15,20)\n",
    "\n",
    "menor = 10\n",
    "for i in range(len(fun)):\n",
    "    if min(fun[i]) < menor:\n",
    "        menor = min(fun[i])\n",
    "    else:\n",
    "        None\n",
    "\n",
    "ax.scatter(1.42857143,0.42857143,2.535547278202478,c='r')\n",
    "print('Al graficar nos damos cuenta que la solucion anterior corresponde con el minimo de la funcion, \\nya que si nos damos cuenta es el punto mas bajo en la grafica.')"
   ]
  },
  {
   "cell_type": "code",
   "execution_count": null,
   "id": "fa257065",
   "metadata": {},
   "outputs": [],
   "source": []
  }
 ],
 "metadata": {
  "kernelspec": {
   "display_name": "Python 3 (ipykernel)",
   "language": "python",
   "name": "python3"
  },
  "language_info": {
   "codemirror_mode": {
    "name": "ipython",
    "version": 3
   },
   "file_extension": ".py",
   "mimetype": "text/x-python",
   "name": "python",
   "nbconvert_exporter": "python",
   "pygments_lexer": "ipython3",
   "version": "3.8.8"
  }
 },
 "nbformat": 4,
 "nbformat_minor": 5
}
