{
 "cells": [
  {
   "cell_type": "code",
   "execution_count": 35,
   "metadata": {},
   "outputs": [
    {
     "name": "stdout",
     "output_type": "stream",
     "text": [
      "20\n"
     ]
    }
   ],
   "source": [
    "\n",
    "lst = list(range(1, 20+1))\n",
    "print(len(lst))"
   ]
  },
  {
   "cell_type": "code",
   "execution_count": 36,
   "metadata": {},
   "outputs": [],
   "source": [
    "def factorial(lst:list)->list:\n",
    "    \n",
    "    i=0\n",
    "    res=[]\n",
    "    while i<=len(lst)-1:\n",
    "        v=lst[i]\n",
    "        \n",
    "        f=1\n",
    "        while v>1:\n",
    "            f *= v\n",
    "            v -=1\n",
    "        res.append(f)\n",
    "        \n",
    "        i+=1\n",
    "        \n",
    "    return res\n",
    "        "
   ]
  },
  {
   "cell_type": "code",
   "execution_count": 37,
   "metadata": {},
   "outputs": [],
   "source": [
    "fac=factorial(lst)"
   ]
  },
  {
   "cell_type": "code",
   "execution_count": 38,
   "metadata": {},
   "outputs": [],
   "source": [
    "def respuesta(numeros, factorial):\n",
    "    i=0\n",
    "    while i<=len(numeros)-1:\n",
    "        n=numeros[i]\n",
    "        f=factorial[i]\n",
    "        \n",
    "        res='El factorial del numero ' + str(n) + ' es igual a: '+str(f)\n",
    "        print(res)\n",
    "        \n",
    "        i+=1\n",
    "        \n",
    "        "
   ]
  },
  {
   "cell_type": "code",
   "execution_count": 39,
   "metadata": {},
   "outputs": [
    {
     "name": "stdout",
     "output_type": "stream",
     "text": [
      "El factorial del numero 1 es igual a: 1\n",
      "El factorial del numero 2 es igual a: 2\n",
      "El factorial del numero 3 es igual a: 6\n",
      "El factorial del numero 4 es igual a: 24\n",
      "El factorial del numero 5 es igual a: 120\n",
      "El factorial del numero 6 es igual a: 720\n",
      "El factorial del numero 7 es igual a: 5040\n",
      "El factorial del numero 8 es igual a: 40320\n",
      "El factorial del numero 9 es igual a: 362880\n",
      "El factorial del numero 10 es igual a: 3628800\n",
      "El factorial del numero 11 es igual a: 39916800\n",
      "El factorial del numero 12 es igual a: 479001600\n",
      "El factorial del numero 13 es igual a: 6227020800\n",
      "El factorial del numero 14 es igual a: 87178291200\n",
      "El factorial del numero 15 es igual a: 1307674368000\n",
      "El factorial del numero 16 es igual a: 20922789888000\n",
      "El factorial del numero 17 es igual a: 355687428096000\n",
      "El factorial del numero 18 es igual a: 6402373705728000\n",
      "El factorial del numero 19 es igual a: 121645100408832000\n",
      "El factorial del numero 20 es igual a: 2432902008176640000\n"
     ]
    }
   ],
   "source": [
    "respuesta(lst,fac)"
   ]
  },
  {
   "cell_type": "code",
   "execution_count": null,
   "metadata": {},
   "outputs": [],
   "source": []
  }
 ],
 "metadata": {
  "kernelspec": {
   "display_name": "Python 3",
   "language": "python",
   "name": "python3"
  },
  "language_info": {
   "codemirror_mode": {
    "name": "ipython",
    "version": 3
   },
   "file_extension": ".py",
   "mimetype": "text/x-python",
   "name": "python",
   "nbconvert_exporter": "python",
   "pygments_lexer": "ipython3",
   "version": "3.6.5"
  }
 },
 "nbformat": 4,
 "nbformat_minor": 2
}
