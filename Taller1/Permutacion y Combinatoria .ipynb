{
 "cells": [
  {
   "cell_type": "code",
   "execution_count": 13,
   "metadata": {},
   "outputs": [],
   "source": [
    "def permutacion(n:int,r:int):\n",
    "    if n<0 or r<0:\n",
    "        print('Los numeros ingresados no son validos')\n",
    "    elif (n==0 or r==0) or ((n-r)==0):\n",
    "        fac=1\n",
    "        \n",
    "    else:\n",
    "        x=n-r\n",
    "        l=n\n",
    "        fac=1\n",
    "        while l>1:\n",
    "            fac*=l\n",
    "            l-=1\n",
    "        res=fac\n",
    "        fac1=1\n",
    "        while x>1:\n",
    "            fac1*=x\n",
    "            x-=1\n",
    "        res1=fac1\n",
    "        div=res/res1\n",
    "        \n",
    "    return div"
   ]
  },
  {
   "cell_type": "code",
   "execution_count": 14,
   "metadata": {},
   "outputs": [
    {
     "name": "stdout",
     "output_type": "stream",
     "text": [
      "Ingrese el n de la funcion: 6\n",
      "Ingrese el r de la funcion: 3\n"
     ]
    }
   ],
   "source": [
    "x=int(input('Ingrese el n de la funcion: '))\n",
    "y=int(input('Ingrese el r de la funcion: '))\n"
   ]
  },
  {
   "cell_type": "code",
   "execution_count": 17,
   "metadata": {},
   "outputs": [
    {
     "name": "stdout",
     "output_type": "stream",
     "text": [
      "Las veces que puede ubicar 6 en 3 son: 120.0\n"
     ]
    }
   ],
   "source": [
    "print('Las veces que puede ubicar '+ str(x)+ ' en '+str(y)+' son: '+ str(permutacion(x,y)))"
   ]
  },
  {
   "cell_type": "code",
   "execution_count": 35,
   "metadata": {},
   "outputs": [],
   "source": [
    "def combinatoria(n:int, m:int):\n",
    "    if (n<0 or m<0) or (n<m):\n",
    "        print('Los numeros ingresados no son validos')\n",
    "    elif (n==0 or m==0) or ((n-m)==0):\n",
    "        fac=1\n",
    "    else:\n",
    "        x=n-m\n",
    "        y=n\n",
    "        z=m\n",
    "        fac=1\n",
    "        while x>1:\n",
    "            fac*=x\n",
    "            x-=1\n",
    "        res=fac\n",
    "        \n",
    "        fac1=1\n",
    "        while y>1:\n",
    "            fac1*=y\n",
    "            y-=1\n",
    "        res1=fac1\n",
    "        \n",
    "        fac2=1\n",
    "        while z>1:\n",
    "            fac2*=z\n",
    "            z-=1\n",
    "        res2=fac2\n",
    "        multi=res2*res\n",
    "        \n",
    "        div=res1/multi\n",
    "        \n",
    "        return div\n",
    "        \n",
    "        "
   ]
  },
  {
   "cell_type": "code",
   "execution_count": 37,
   "metadata": {},
   "outputs": [
    {
     "name": "stdout",
     "output_type": "stream",
     "text": [
      "Ingrese el n de la funcion: 22\n",
      "Ingrese el r de la funcion: 11\n"
     ]
    }
   ],
   "source": [
    "a=int(input('Ingrese el n de la funcion: '))\n",
    "b=int(input('Ingrese el r de la funcion: '))\n"
   ]
  },
  {
   "cell_type": "code",
   "execution_count": 38,
   "metadata": {},
   "outputs": [
    {
     "name": "stdout",
     "output_type": "stream",
     "text": [
      "El numero de combinacion posibles para 22 jugadores en 11 equipos son: 705432.0\n"
     ]
    }
   ],
   "source": [
    "print('El numero de combinacion posibles para '+ str(a)+' jugadores en '+ str(b)+' equipos son: '+str(combinatoria(a,b)))"
   ]
  },
  {
   "cell_type": "code",
   "execution_count": null,
   "metadata": {},
   "outputs": [],
   "source": []
  }
 ],
 "metadata": {
  "kernelspec": {
   "display_name": "Python 3",
   "language": "python",
   "name": "python3"
  },
  "language_info": {
   "codemirror_mode": {
    "name": "ipython",
    "version": 3
   },
   "file_extension": ".py",
   "mimetype": "text/x-python",
   "name": "python",
   "nbconvert_exporter": "python",
   "pygments_lexer": "ipython3",
   "version": "3.6.5"
  }
 },
 "nbformat": 4,
 "nbformat_minor": 2
}
